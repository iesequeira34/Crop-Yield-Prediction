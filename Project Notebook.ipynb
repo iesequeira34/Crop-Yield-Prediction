{
 "cells": [
  {
   "cell_type": "markdown",
   "metadata": {},
   "source": [
    "# Prediction of Yield Losses due to Air Pollutants."
   ]
  },
  {
   "cell_type": "markdown",
   "metadata": {},
   "source": [
    "## Data Dictionary\n",
    "\n",
    "|Feature|Definition|Data Type|\n",
    "|-|-|-|\n",
    "|**Date**|Period of Year|String|\n",
    "|**District**|District|String|\n",
    "|**SO2**|Sulpher Dioxide Content|Float|\n",
    "|**NO2**|Nitrogen Dioxide Content|Float|\n",
    "|**RSPM**|Respirable Suspended Particulate Matter|Float|\n",
    "|**SPM**|Suspended Particulate Matter|Float|\n",
    "|**AQI**|Air Quality Index|Float|\n",
    "|**Rice Area**|Surface Area Rice is Cultivated|Integer|\n",
    "|**Rice Production**|Total Rice Production For The Period|Integer|\n",
    "|**Rice Yield**|Rice Production Per Area|Float|\n",
    "|**Wheat Area**|Surface Area Wheat is Cultivated|Integer|\n",
    "|**Wheat Production**|Total Wheat Production For The Period|Integer|\n",
    "|**Wheat Yield**|Wheat Production Per Area|Float|"
   ]
  },
  {
   "cell_type": "markdown",
   "metadata": {},
   "source": [
    "## Project Imports"
   ]
  },
  {
   "cell_type": "code",
   "execution_count": 67,
   "metadata": {},
   "outputs": [],
   "source": [
    "import pandas as pd\n",
    "from pandas import Series, DataFrame\n",
    "import glob\n",
    "import os\n",
    "import matplotlib.pyplot as plt\n",
    "import numpy as np\n",
    "import scipy.stats as stats\n",
    "from sklearn import preprocessing, neighbors, metrics\n",
    "from xgboost import XGBRegressor, plot_importance\n",
    "from sklearn.model_selection import (\n",
    "    KFold, train_test_split, validation_curve,\n",
    "    learning_curve, ShuffleSplit, cross_val_score,\n",
    "    GridSearchCV,\n",
    ")\n",
    "from sklearn.metrics import (\n",
    "    mean_squared_error, r2_score, explained_variance_score, mean_absolute_error,\n",
    ")\n",
    "import warnings\n",
    "warnings.filterwarnings('ignore')"
   ]
  },
  {
   "cell_type": "markdown",
   "metadata": {},
   "source": [
    "## ETL\n",
    "\n",
    "The first thing we need to do before starting any EDA is to load the data. We will get the data from all the CSV files and will load the data into a `pandas` dataframe.\n",
    "\n",
    "Once loaded into a `DataFrame`, we will familiarize ourselves with the columns present, and their data types. Standard Python \"snake_casing\" is used to provide a DataFrame with field accessors most akin to Standard Python.\n",
    "\n",
    "Let us profile the data by reading each file individually. "
   ]
  },
  {
   "cell_type": "code",
   "execution_count": 2,
   "metadata": {},
   "outputs": [],
   "source": [
    "dataDir = r'C:\\Users\\IAN\\Desktop\\demo pics\\Ian\\Ian'\n",
    "os.chdir(dataDir)\n",
    "dtype = {\n",
    "    'date': 'str',\n",
    "    'district': 'str',\n",
    "    'so2': 'float64',\n",
    "    'no2': 'float64',\n",
    "    'rspm': 'float64',\n",
    "    'spm': 'float64',\n",
    "    'aqi': 'float64',\n",
    "    'rice_area': 'int64',\n",
    "    'rice_production': 'int64',\n",
    "    'rice_yield': 'float64',\n",
    "    'wheat_area': 'int64',\n",
    "    'wheat_production': 'int64',\n",
    "    'wheat_yield': 'float64'\n",
    "}\n",
    "colNames = list(dtype.keys())"
   ]
  },
  {
   "cell_type": "code",
   "execution_count": 3,
   "metadata": {},
   "outputs": [
    {
     "name": "stdout",
     "output_type": "stream",
     "text": [
      "<class 'pandas.core.frame.DataFrame'>\n",
      "RangeIndex: 14 entries, 0 to 13\n",
      "Data columns (total 13 columns):\n",
      " #   Column            Non-Null Count  Dtype  \n",
      "---  ------            --------------  -----  \n",
      " 0   date              14 non-null     object \n",
      " 1   district          14 non-null     object \n",
      " 2   so2               14 non-null     float64\n",
      " 3   no2               14 non-null     float64\n",
      " 4   rspm              14 non-null     float64\n",
      " 5   spm               14 non-null     float64\n",
      " 6   aqi               14 non-null     float64\n",
      " 7   rice_area         14 non-null     object \n",
      " 8   rice_production   14 non-null     object \n",
      " 9   rice_yield        14 non-null     float64\n",
      " 10  wheat_area        14 non-null     int64  \n",
      " 11  wheat_production  14 non-null     int64  \n",
      " 12  wheat_yield       14 non-null     float64\n",
      "dtypes: float64(7), int64(2), object(4)\n",
      "memory usage: 1.5+ KB\n"
     ]
    }
   ],
   "source": [
    "ahmedabadYield = pd.read_csv('Ahmedabad.csv',skiprows=1,header=None, names=colNames)\n",
    "ahmedabadYield.info()"
   ]
  },
  {
   "cell_type": "markdown",
   "metadata": {},
   "source": [
    "All the attributes/columns are of the right datatype, except `rice_area` and `rice_production`.   Inspecting the records closely we see some data quality issues.  For some records there are thousand seperators and for most there are none.  Because of this mixed nature, pandas has marked the datatype as `object` instead of `int64`.  Let us remove the `comma` and set the datatype as int64.  \n",
    "\n",
    "### Before"
   ]
  },
  {
   "cell_type": "code",
   "execution_count": 4,
   "metadata": {},
   "outputs": [
    {
     "data": {
      "text/html": [
       "<div>\n",
       "<style scoped>\n",
       "    .dataframe tbody tr th:only-of-type {\n",
       "        vertical-align: middle;\n",
       "    }\n",
       "\n",
       "    .dataframe tbody tr th {\n",
       "        vertical-align: top;\n",
       "    }\n",
       "\n",
       "    .dataframe thead th {\n",
       "        text-align: right;\n",
       "    }\n",
       "</style>\n",
       "<table border=\"1\" class=\"dataframe\">\n",
       "  <thead>\n",
       "    <tr style=\"text-align: right;\">\n",
       "      <th></th>\n",
       "      <th>date</th>\n",
       "      <th>district</th>\n",
       "      <th>so2</th>\n",
       "      <th>no2</th>\n",
       "      <th>rspm</th>\n",
       "      <th>spm</th>\n",
       "      <th>aqi</th>\n",
       "      <th>rice_area</th>\n",
       "      <th>rice_production</th>\n",
       "      <th>rice_yield</th>\n",
       "      <th>wheat_area</th>\n",
       "      <th>wheat_production</th>\n",
       "      <th>wheat_yield</th>\n",
       "    </tr>\n",
       "  </thead>\n",
       "  <tbody>\n",
       "    <tr>\n",
       "      <th>0</th>\n",
       "      <td>1998-99</td>\n",
       "      <td>AHMEDABAD</td>\n",
       "      <td>7.850000</td>\n",
       "      <td>17.208333</td>\n",
       "      <td>104.200455</td>\n",
       "      <td>235.000000</td>\n",
       "      <td>235.000000</td>\n",
       "      <td>52200</td>\n",
       "      <td>72600</td>\n",
       "      <td>1.390805</td>\n",
       "      <td>91600</td>\n",
       "      <td>138900</td>\n",
       "      <td>1.516376</td>\n",
       "    </tr>\n",
       "    <tr>\n",
       "      <th>1</th>\n",
       "      <td>1999-00</td>\n",
       "      <td>AHMEDABAD</td>\n",
       "      <td>6.925000</td>\n",
       "      <td>16.608333</td>\n",
       "      <td>104.200455</td>\n",
       "      <td>300.000000</td>\n",
       "      <td>300.000000</td>\n",
       "      <td>75100</td>\n",
       "      <td>78900</td>\n",
       "      <td>1.050599</td>\n",
       "      <td>84000</td>\n",
       "      <td>114800</td>\n",
       "      <td>1.366667</td>\n",
       "    </tr>\n",
       "    <tr>\n",
       "      <th>2</th>\n",
       "      <td>2000-01</td>\n",
       "      <td>AHMEDABAD</td>\n",
       "      <td>10.175000</td>\n",
       "      <td>32.300000</td>\n",
       "      <td>104.200455</td>\n",
       "      <td>335.750000</td>\n",
       "      <td>335.750000</td>\n",
       "      <td>84100</td>\n",
       "      <td>37500</td>\n",
       "      <td>0.445898</td>\n",
       "      <td>48700</td>\n",
       "      <td>78500</td>\n",
       "      <td>1.611910</td>\n",
       "    </tr>\n",
       "    <tr>\n",
       "      <th>3</th>\n",
       "      <td>2001-02</td>\n",
       "      <td>AHMEDABAD</td>\n",
       "      <td>13.466667</td>\n",
       "      <td>33.408333</td>\n",
       "      <td>104.200455</td>\n",
       "      <td>261.750000</td>\n",
       "      <td>261.750000</td>\n",
       "      <td>82000</td>\n",
       "      <td>144300</td>\n",
       "      <td>1.759756</td>\n",
       "      <td>81000</td>\n",
       "      <td>103500</td>\n",
       "      <td>1.277778</td>\n",
       "    </tr>\n",
       "    <tr>\n",
       "      <th>4</th>\n",
       "      <td>2002-03</td>\n",
       "      <td>AHMEDABAD</td>\n",
       "      <td>16.187982</td>\n",
       "      <td>28.496361</td>\n",
       "      <td>104.200455</td>\n",
       "      <td>233.611749</td>\n",
       "      <td>233.611749</td>\n",
       "      <td>47500</td>\n",
       "      <td>39300</td>\n",
       "      <td>0.827368</td>\n",
       "      <td>79500</td>\n",
       "      <td>107400</td>\n",
       "      <td>1.350943</td>\n",
       "    </tr>\n",
       "    <tr>\n",
       "      <th>5</th>\n",
       "      <td>2003-04</td>\n",
       "      <td>AHMEDABAD</td>\n",
       "      <td>16.520577</td>\n",
       "      <td>24.882115</td>\n",
       "      <td>160.983798</td>\n",
       "      <td>255.275577</td>\n",
       "      <td>255.275577</td>\n",
       "      <td>83200</td>\n",
       "      <td>197600</td>\n",
       "      <td>2.375000</td>\n",
       "      <td>111400</td>\n",
       "      <td>182600</td>\n",
       "      <td>1.639138</td>\n",
       "    </tr>\n",
       "    <tr>\n",
       "      <th>6</th>\n",
       "      <td>2004-05</td>\n",
       "      <td>AHMEDABAD</td>\n",
       "      <td>13.179457</td>\n",
       "      <td>25.694186</td>\n",
       "      <td>119.527132</td>\n",
       "      <td>280.236434</td>\n",
       "      <td>280.236434</td>\n",
       "      <td>79000</td>\n",
       "      <td>176200</td>\n",
       "      <td>2.230380</td>\n",
       "      <td>124300</td>\n",
       "      <td>218000</td>\n",
       "      <td>1.753821</td>\n",
       "    </tr>\n",
       "    <tr>\n",
       "      <th>7</th>\n",
       "      <td>2005-06</td>\n",
       "      <td>AHMEDABAD</td>\n",
       "      <td>10.566810</td>\n",
       "      <td>22.313793</td>\n",
       "      <td>97.433476</td>\n",
       "      <td>216.858369</td>\n",
       "      <td>216.858369</td>\n",
       "      <td>95800</td>\n",
       "      <td>238400</td>\n",
       "      <td>2.488518</td>\n",
       "      <td>108000</td>\n",
       "      <td>191900</td>\n",
       "      <td>1.776852</td>\n",
       "    </tr>\n",
       "    <tr>\n",
       "      <th>8</th>\n",
       "      <td>2006-07</td>\n",
       "      <td>AHMEDABAD</td>\n",
       "      <td>14.164626</td>\n",
       "      <td>25.279252</td>\n",
       "      <td>110.525424</td>\n",
       "      <td>255.627119</td>\n",
       "      <td>255.627119</td>\n",
       "      <td>100,100</td>\n",
       "      <td>186,900</td>\n",
       "      <td>1.867133</td>\n",
       "      <td>132400</td>\n",
       "      <td>228900</td>\n",
       "      <td>1.728852</td>\n",
       "    </tr>\n",
       "    <tr>\n",
       "      <th>9</th>\n",
       "      <td>2007-08</td>\n",
       "      <td>AHMEDABAD</td>\n",
       "      <td>12.544611</td>\n",
       "      <td>20.498204</td>\n",
       "      <td>96.382090</td>\n",
       "      <td>244.176119</td>\n",
       "      <td>244.176119</td>\n",
       "      <td>108,000</td>\n",
       "      <td>222,700</td>\n",
       "      <td>2.062037</td>\n",
       "      <td>150200</td>\n",
       "      <td>275600</td>\n",
       "      <td>1.834887</td>\n",
       "    </tr>\n",
       "    <tr>\n",
       "      <th>10</th>\n",
       "      <td>2008-09</td>\n",
       "      <td>AHMEDABAD</td>\n",
       "      <td>15.839466</td>\n",
       "      <td>21.119585</td>\n",
       "      <td>99.631268</td>\n",
       "      <td>221.646018</td>\n",
       "      <td>221.646018</td>\n",
       "      <td>96100</td>\n",
       "      <td>175500</td>\n",
       "      <td>1.826223</td>\n",
       "      <td>140800</td>\n",
       "      <td>194600</td>\n",
       "      <td>1.382102</td>\n",
       "    </tr>\n",
       "    <tr>\n",
       "      <th>11</th>\n",
       "      <td>2009-10</td>\n",
       "      <td>AHMEDABAD</td>\n",
       "      <td>17.008596</td>\n",
       "      <td>22.389685</td>\n",
       "      <td>106.501433</td>\n",
       "      <td>190.050032</td>\n",
       "      <td>190.050032</td>\n",
       "      <td>89000</td>\n",
       "      <td>226300</td>\n",
       "      <td>2.542697</td>\n",
       "      <td>91500</td>\n",
       "      <td>209500</td>\n",
       "      <td>2.289617</td>\n",
       "    </tr>\n",
       "    <tr>\n",
       "      <th>12</th>\n",
       "      <td>2010-11</td>\n",
       "      <td>AHMEDABAD</td>\n",
       "      <td>14.872204</td>\n",
       "      <td>28.348243</td>\n",
       "      <td>87.398089</td>\n",
       "      <td>147.638456</td>\n",
       "      <td>147.638456</td>\n",
       "      <td>113500</td>\n",
       "      <td>310300</td>\n",
       "      <td>2.733921</td>\n",
       "      <td>230400</td>\n",
       "      <td>547600</td>\n",
       "      <td>2.376736</td>\n",
       "    </tr>\n",
       "    <tr>\n",
       "      <th>13</th>\n",
       "      <td>2011-12</td>\n",
       "      <td>AHMEDABAD</td>\n",
       "      <td>13.386139</td>\n",
       "      <td>26.207921</td>\n",
       "      <td>92.752475</td>\n",
       "      <td>94.250606</td>\n",
       "      <td>94.250606</td>\n",
       "      <td>133100</td>\n",
       "      <td>365600</td>\n",
       "      <td>2.746807</td>\n",
       "      <td>189800</td>\n",
       "      <td>473900</td>\n",
       "      <td>2.496839</td>\n",
       "    </tr>\n",
       "  </tbody>\n",
       "</table>\n",
       "</div>"
      ],
      "text/plain": [
       "       date   district        so2        no2        rspm         spm  \\\n",
       "0   1998-99  AHMEDABAD   7.850000  17.208333  104.200455  235.000000   \n",
       "1   1999-00  AHMEDABAD   6.925000  16.608333  104.200455  300.000000   \n",
       "2   2000-01  AHMEDABAD  10.175000  32.300000  104.200455  335.750000   \n",
       "3   2001-02  AHMEDABAD  13.466667  33.408333  104.200455  261.750000   \n",
       "4   2002-03  AHMEDABAD  16.187982  28.496361  104.200455  233.611749   \n",
       "5   2003-04  AHMEDABAD  16.520577  24.882115  160.983798  255.275577   \n",
       "6   2004-05  AHMEDABAD  13.179457  25.694186  119.527132  280.236434   \n",
       "7   2005-06  AHMEDABAD  10.566810  22.313793   97.433476  216.858369   \n",
       "8   2006-07  AHMEDABAD  14.164626  25.279252  110.525424  255.627119   \n",
       "9   2007-08  AHMEDABAD  12.544611  20.498204   96.382090  244.176119   \n",
       "10  2008-09  AHMEDABAD  15.839466  21.119585   99.631268  221.646018   \n",
       "11  2009-10  AHMEDABAD  17.008596  22.389685  106.501433  190.050032   \n",
       "12  2010-11  AHMEDABAD  14.872204  28.348243   87.398089  147.638456   \n",
       "13  2011-12  AHMEDABAD  13.386139  26.207921   92.752475   94.250606   \n",
       "\n",
       "           aqi rice_area rice_production  rice_yield  wheat_area  \\\n",
       "0   235.000000     52200           72600    1.390805       91600   \n",
       "1   300.000000     75100           78900    1.050599       84000   \n",
       "2   335.750000     84100           37500    0.445898       48700   \n",
       "3   261.750000     82000          144300    1.759756       81000   \n",
       "4   233.611749     47500           39300    0.827368       79500   \n",
       "5   255.275577     83200          197600    2.375000      111400   \n",
       "6   280.236434     79000          176200    2.230380      124300   \n",
       "7   216.858369     95800          238400    2.488518      108000   \n",
       "8   255.627119   100,100         186,900    1.867133      132400   \n",
       "9   244.176119   108,000         222,700    2.062037      150200   \n",
       "10  221.646018     96100          175500    1.826223      140800   \n",
       "11  190.050032     89000          226300    2.542697       91500   \n",
       "12  147.638456    113500          310300    2.733921      230400   \n",
       "13   94.250606    133100          365600    2.746807      189800   \n",
       "\n",
       "    wheat_production  wheat_yield  \n",
       "0             138900     1.516376  \n",
       "1             114800     1.366667  \n",
       "2              78500     1.611910  \n",
       "3             103500     1.277778  \n",
       "4             107400     1.350943  \n",
       "5             182600     1.639138  \n",
       "6             218000     1.753821  \n",
       "7             191900     1.776852  \n",
       "8             228900     1.728852  \n",
       "9             275600     1.834887  \n",
       "10            194600     1.382102  \n",
       "11            209500     2.289617  \n",
       "12            547600     2.376736  \n",
       "13            473900     2.496839  "
      ]
     },
     "execution_count": 4,
     "metadata": {},
     "output_type": "execute_result"
    }
   ],
   "source": [
    "ahmedabadYield"
   ]
  },
  {
   "cell_type": "code",
   "execution_count": 5,
   "metadata": {},
   "outputs": [
    {
     "data": {
      "text/html": [
       "<div>\n",
       "<style scoped>\n",
       "    .dataframe tbody tr th:only-of-type {\n",
       "        vertical-align: middle;\n",
       "    }\n",
       "\n",
       "    .dataframe tbody tr th {\n",
       "        vertical-align: top;\n",
       "    }\n",
       "\n",
       "    .dataframe thead th {\n",
       "        text-align: right;\n",
       "    }\n",
       "</style>\n",
       "<table border=\"1\" class=\"dataframe\">\n",
       "  <thead>\n",
       "    <tr style=\"text-align: right;\">\n",
       "      <th></th>\n",
       "      <th>date</th>\n",
       "      <th>district</th>\n",
       "      <th>so2</th>\n",
       "      <th>no2</th>\n",
       "      <th>rspm</th>\n",
       "      <th>spm</th>\n",
       "      <th>aqi</th>\n",
       "      <th>rice_area</th>\n",
       "      <th>rice_production</th>\n",
       "      <th>rice_yield</th>\n",
       "      <th>wheat_area</th>\n",
       "      <th>wheat_production</th>\n",
       "      <th>wheat_yield</th>\n",
       "    </tr>\n",
       "  </thead>\n",
       "  <tbody>\n",
       "    <tr>\n",
       "      <th>0</th>\n",
       "      <td>1998-99</td>\n",
       "      <td>AHMEDABAD</td>\n",
       "      <td>7.850000</td>\n",
       "      <td>17.208333</td>\n",
       "      <td>104.200455</td>\n",
       "      <td>235.000000</td>\n",
       "      <td>235.000000</td>\n",
       "      <td>52200</td>\n",
       "      <td>72600</td>\n",
       "      <td>1.390805</td>\n",
       "      <td>91600</td>\n",
       "      <td>138900</td>\n",
       "      <td>1.516376</td>\n",
       "    </tr>\n",
       "    <tr>\n",
       "      <th>1</th>\n",
       "      <td>1999-00</td>\n",
       "      <td>AHMEDABAD</td>\n",
       "      <td>6.925000</td>\n",
       "      <td>16.608333</td>\n",
       "      <td>104.200455</td>\n",
       "      <td>300.000000</td>\n",
       "      <td>300.000000</td>\n",
       "      <td>75100</td>\n",
       "      <td>78900</td>\n",
       "      <td>1.050599</td>\n",
       "      <td>84000</td>\n",
       "      <td>114800</td>\n",
       "      <td>1.366667</td>\n",
       "    </tr>\n",
       "    <tr>\n",
       "      <th>2</th>\n",
       "      <td>2000-01</td>\n",
       "      <td>AHMEDABAD</td>\n",
       "      <td>10.175000</td>\n",
       "      <td>32.300000</td>\n",
       "      <td>104.200455</td>\n",
       "      <td>335.750000</td>\n",
       "      <td>335.750000</td>\n",
       "      <td>84100</td>\n",
       "      <td>37500</td>\n",
       "      <td>0.445898</td>\n",
       "      <td>48700</td>\n",
       "      <td>78500</td>\n",
       "      <td>1.611910</td>\n",
       "    </tr>\n",
       "    <tr>\n",
       "      <th>3</th>\n",
       "      <td>2001-02</td>\n",
       "      <td>AHMEDABAD</td>\n",
       "      <td>13.466667</td>\n",
       "      <td>33.408333</td>\n",
       "      <td>104.200455</td>\n",
       "      <td>261.750000</td>\n",
       "      <td>261.750000</td>\n",
       "      <td>82000</td>\n",
       "      <td>144300</td>\n",
       "      <td>1.759756</td>\n",
       "      <td>81000</td>\n",
       "      <td>103500</td>\n",
       "      <td>1.277778</td>\n",
       "    </tr>\n",
       "    <tr>\n",
       "      <th>4</th>\n",
       "      <td>2002-03</td>\n",
       "      <td>AHMEDABAD</td>\n",
       "      <td>16.187982</td>\n",
       "      <td>28.496361</td>\n",
       "      <td>104.200455</td>\n",
       "      <td>233.611749</td>\n",
       "      <td>233.611749</td>\n",
       "      <td>47500</td>\n",
       "      <td>39300</td>\n",
       "      <td>0.827368</td>\n",
       "      <td>79500</td>\n",
       "      <td>107400</td>\n",
       "      <td>1.350943</td>\n",
       "    </tr>\n",
       "    <tr>\n",
       "      <th>5</th>\n",
       "      <td>2003-04</td>\n",
       "      <td>AHMEDABAD</td>\n",
       "      <td>16.520577</td>\n",
       "      <td>24.882115</td>\n",
       "      <td>160.983798</td>\n",
       "      <td>255.275577</td>\n",
       "      <td>255.275577</td>\n",
       "      <td>83200</td>\n",
       "      <td>197600</td>\n",
       "      <td>2.375000</td>\n",
       "      <td>111400</td>\n",
       "      <td>182600</td>\n",
       "      <td>1.639138</td>\n",
       "    </tr>\n",
       "    <tr>\n",
       "      <th>6</th>\n",
       "      <td>2004-05</td>\n",
       "      <td>AHMEDABAD</td>\n",
       "      <td>13.179457</td>\n",
       "      <td>25.694186</td>\n",
       "      <td>119.527132</td>\n",
       "      <td>280.236434</td>\n",
       "      <td>280.236434</td>\n",
       "      <td>79000</td>\n",
       "      <td>176200</td>\n",
       "      <td>2.230380</td>\n",
       "      <td>124300</td>\n",
       "      <td>218000</td>\n",
       "      <td>1.753821</td>\n",
       "    </tr>\n",
       "    <tr>\n",
       "      <th>7</th>\n",
       "      <td>2005-06</td>\n",
       "      <td>AHMEDABAD</td>\n",
       "      <td>10.566810</td>\n",
       "      <td>22.313793</td>\n",
       "      <td>97.433476</td>\n",
       "      <td>216.858369</td>\n",
       "      <td>216.858369</td>\n",
       "      <td>95800</td>\n",
       "      <td>238400</td>\n",
       "      <td>2.488518</td>\n",
       "      <td>108000</td>\n",
       "      <td>191900</td>\n",
       "      <td>1.776852</td>\n",
       "    </tr>\n",
       "    <tr>\n",
       "      <th>8</th>\n",
       "      <td>2006-07</td>\n",
       "      <td>AHMEDABAD</td>\n",
       "      <td>14.164626</td>\n",
       "      <td>25.279252</td>\n",
       "      <td>110.525424</td>\n",
       "      <td>255.627119</td>\n",
       "      <td>255.627119</td>\n",
       "      <td>100100</td>\n",
       "      <td>186900</td>\n",
       "      <td>1.867133</td>\n",
       "      <td>132400</td>\n",
       "      <td>228900</td>\n",
       "      <td>1.728852</td>\n",
       "    </tr>\n",
       "    <tr>\n",
       "      <th>9</th>\n",
       "      <td>2007-08</td>\n",
       "      <td>AHMEDABAD</td>\n",
       "      <td>12.544611</td>\n",
       "      <td>20.498204</td>\n",
       "      <td>96.382090</td>\n",
       "      <td>244.176119</td>\n",
       "      <td>244.176119</td>\n",
       "      <td>108000</td>\n",
       "      <td>222700</td>\n",
       "      <td>2.062037</td>\n",
       "      <td>150200</td>\n",
       "      <td>275600</td>\n",
       "      <td>1.834887</td>\n",
       "    </tr>\n",
       "    <tr>\n",
       "      <th>10</th>\n",
       "      <td>2008-09</td>\n",
       "      <td>AHMEDABAD</td>\n",
       "      <td>15.839466</td>\n",
       "      <td>21.119585</td>\n",
       "      <td>99.631268</td>\n",
       "      <td>221.646018</td>\n",
       "      <td>221.646018</td>\n",
       "      <td>96100</td>\n",
       "      <td>175500</td>\n",
       "      <td>1.826223</td>\n",
       "      <td>140800</td>\n",
       "      <td>194600</td>\n",
       "      <td>1.382102</td>\n",
       "    </tr>\n",
       "    <tr>\n",
       "      <th>11</th>\n",
       "      <td>2009-10</td>\n",
       "      <td>AHMEDABAD</td>\n",
       "      <td>17.008596</td>\n",
       "      <td>22.389685</td>\n",
       "      <td>106.501433</td>\n",
       "      <td>190.050032</td>\n",
       "      <td>190.050032</td>\n",
       "      <td>89000</td>\n",
       "      <td>226300</td>\n",
       "      <td>2.542697</td>\n",
       "      <td>91500</td>\n",
       "      <td>209500</td>\n",
       "      <td>2.289617</td>\n",
       "    </tr>\n",
       "    <tr>\n",
       "      <th>12</th>\n",
       "      <td>2010-11</td>\n",
       "      <td>AHMEDABAD</td>\n",
       "      <td>14.872204</td>\n",
       "      <td>28.348243</td>\n",
       "      <td>87.398089</td>\n",
       "      <td>147.638456</td>\n",
       "      <td>147.638456</td>\n",
       "      <td>113500</td>\n",
       "      <td>310300</td>\n",
       "      <td>2.733921</td>\n",
       "      <td>230400</td>\n",
       "      <td>547600</td>\n",
       "      <td>2.376736</td>\n",
       "    </tr>\n",
       "    <tr>\n",
       "      <th>13</th>\n",
       "      <td>2011-12</td>\n",
       "      <td>AHMEDABAD</td>\n",
       "      <td>13.386139</td>\n",
       "      <td>26.207921</td>\n",
       "      <td>92.752475</td>\n",
       "      <td>94.250606</td>\n",
       "      <td>94.250606</td>\n",
       "      <td>133100</td>\n",
       "      <td>365600</td>\n",
       "      <td>2.746807</td>\n",
       "      <td>189800</td>\n",
       "      <td>473900</td>\n",
       "      <td>2.496839</td>\n",
       "    </tr>\n",
       "  </tbody>\n",
       "</table>\n",
       "</div>"
      ],
      "text/plain": [
       "       date   district        so2        no2        rspm         spm  \\\n",
       "0   1998-99  AHMEDABAD   7.850000  17.208333  104.200455  235.000000   \n",
       "1   1999-00  AHMEDABAD   6.925000  16.608333  104.200455  300.000000   \n",
       "2   2000-01  AHMEDABAD  10.175000  32.300000  104.200455  335.750000   \n",
       "3   2001-02  AHMEDABAD  13.466667  33.408333  104.200455  261.750000   \n",
       "4   2002-03  AHMEDABAD  16.187982  28.496361  104.200455  233.611749   \n",
       "5   2003-04  AHMEDABAD  16.520577  24.882115  160.983798  255.275577   \n",
       "6   2004-05  AHMEDABAD  13.179457  25.694186  119.527132  280.236434   \n",
       "7   2005-06  AHMEDABAD  10.566810  22.313793   97.433476  216.858369   \n",
       "8   2006-07  AHMEDABAD  14.164626  25.279252  110.525424  255.627119   \n",
       "9   2007-08  AHMEDABAD  12.544611  20.498204   96.382090  244.176119   \n",
       "10  2008-09  AHMEDABAD  15.839466  21.119585   99.631268  221.646018   \n",
       "11  2009-10  AHMEDABAD  17.008596  22.389685  106.501433  190.050032   \n",
       "12  2010-11  AHMEDABAD  14.872204  28.348243   87.398089  147.638456   \n",
       "13  2011-12  AHMEDABAD  13.386139  26.207921   92.752475   94.250606   \n",
       "\n",
       "           aqi  rice_area  rice_production  rice_yield  wheat_area  \\\n",
       "0   235.000000      52200            72600    1.390805       91600   \n",
       "1   300.000000      75100            78900    1.050599       84000   \n",
       "2   335.750000      84100            37500    0.445898       48700   \n",
       "3   261.750000      82000           144300    1.759756       81000   \n",
       "4   233.611749      47500            39300    0.827368       79500   \n",
       "5   255.275577      83200           197600    2.375000      111400   \n",
       "6   280.236434      79000           176200    2.230380      124300   \n",
       "7   216.858369      95800           238400    2.488518      108000   \n",
       "8   255.627119     100100           186900    1.867133      132400   \n",
       "9   244.176119     108000           222700    2.062037      150200   \n",
       "10  221.646018      96100           175500    1.826223      140800   \n",
       "11  190.050032      89000           226300    2.542697       91500   \n",
       "12  147.638456     113500           310300    2.733921      230400   \n",
       "13   94.250606     133100           365600    2.746807      189800   \n",
       "\n",
       "    wheat_production  wheat_yield  \n",
       "0             138900     1.516376  \n",
       "1             114800     1.366667  \n",
       "2              78500     1.611910  \n",
       "3             103500     1.277778  \n",
       "4             107400     1.350943  \n",
       "5             182600     1.639138  \n",
       "6             218000     1.753821  \n",
       "7             191900     1.776852  \n",
       "8             228900     1.728852  \n",
       "9             275600     1.834887  \n",
       "10            194600     1.382102  \n",
       "11            209500     2.289617  \n",
       "12            547600     2.376736  \n",
       "13            473900     2.496839  "
      ]
     },
     "execution_count": 5,
     "metadata": {},
     "output_type": "execute_result"
    }
   ],
   "source": [
    "ahmedabadYield['rice_area']=ahmedabadYield['rice_area'].str.replace(',','')\n",
    "ahmedabadYield['rice_production']=ahmedabadYield['rice_production'].str.replace(',','')\n",
    "ahmedabadYield['rice_area'] = ahmedabadYield['rice_area'].astype('int64')\n",
    "ahmedabadYield['rice_production'] = ahmedabadYield['rice_production'].astype('int64')\n",
    "ahmedabadYield"
   ]
  },
  {
   "cell_type": "markdown",
   "metadata": {},
   "source": [
    "### After"
   ]
  },
  {
   "cell_type": "code",
   "execution_count": 6,
   "metadata": {},
   "outputs": [
    {
     "name": "stdout",
     "output_type": "stream",
     "text": [
      "<class 'pandas.core.frame.DataFrame'>\n",
      "RangeIndex: 14 entries, 0 to 13\n",
      "Data columns (total 13 columns):\n",
      " #   Column            Non-Null Count  Dtype  \n",
      "---  ------            --------------  -----  \n",
      " 0   date              14 non-null     object \n",
      " 1   district          14 non-null     object \n",
      " 2   so2               14 non-null     float64\n",
      " 3   no2               14 non-null     float64\n",
      " 4   rspm              14 non-null     float64\n",
      " 5   spm               14 non-null     float64\n",
      " 6   aqi               14 non-null     float64\n",
      " 7   rice_area         14 non-null     int64  \n",
      " 8   rice_production   14 non-null     int64  \n",
      " 9   rice_yield        14 non-null     float64\n",
      " 10  wheat_area        14 non-null     int64  \n",
      " 11  wheat_production  14 non-null     int64  \n",
      " 12  wheat_yield       14 non-null     float64\n",
      "dtypes: float64(7), int64(4), object(2)\n",
      "memory usage: 1.5+ KB\n"
     ]
    }
   ],
   "source": [
    "ahmedabadYield.info()"
   ]
  },
  {
   "cell_type": "code",
   "execution_count": 7,
   "metadata": {},
   "outputs": [
    {
     "name": "stdout",
     "output_type": "stream",
     "text": [
      "<class 'pandas.core.frame.DataFrame'>\n",
      "RangeIndex: 10 entries, 0 to 9\n",
      "Data columns (total 13 columns):\n",
      " #   Column            Non-Null Count  Dtype  \n",
      "---  ------            --------------  -----  \n",
      " 0   date              10 non-null     object \n",
      " 1   district          10 non-null     object \n",
      " 2   so2               10 non-null     float64\n",
      " 3   no2               10 non-null     float64\n",
      " 4   rspm              10 non-null     float64\n",
      " 5   spm               10 non-null     float64\n",
      " 6   aqi               10 non-null     float64\n",
      " 7   rice_area         10 non-null     int64  \n",
      " 8   rice_production   10 non-null     int64  \n",
      " 9   rice_yield        10 non-null     float64\n",
      " 10  wheat_area        10 non-null     int64  \n",
      " 11  wheat_production  10 non-null     int64  \n",
      " 12  wheat_yield       10 non-null     float64\n",
      "dtypes: float64(7), int64(4), object(2)\n",
      "memory usage: 1.1+ KB\n"
     ]
    }
   ],
   "source": [
    "delhiYield = pd.read_csv('Delhi.csv',skiprows=1,header=None, names=colNames)\n",
    "delhiYield.info()"
   ]
  },
  {
   "cell_type": "code",
   "execution_count": 8,
   "metadata": {},
   "outputs": [
    {
     "name": "stdout",
     "output_type": "stream",
     "text": [
      "<class 'pandas.core.frame.DataFrame'>\n",
      "RangeIndex: 14 entries, 0 to 13\n",
      "Data columns (total 13 columns):\n",
      " #   Column            Non-Null Count  Dtype  \n",
      "---  ------            --------------  -----  \n",
      " 0   date              14 non-null     object \n",
      " 1   district          14 non-null     object \n",
      " 2   so2               14 non-null     float64\n",
      " 3   no2               14 non-null     float64\n",
      " 4   rspm              14 non-null     float64\n",
      " 5   spm               14 non-null     float64\n",
      " 6   aqi               14 non-null     float64\n",
      " 7   rice_area         14 non-null     int64  \n",
      " 8   rice_production   14 non-null     int64  \n",
      " 9   rice_yield        14 non-null     float64\n",
      " 10  wheat_area        14 non-null     int64  \n",
      " 11  wheat_production  14 non-null     int64  \n",
      " 12  wheat_yield       14 non-null     float64\n",
      "dtypes: float64(7), int64(4), object(2)\n",
      "memory usage: 1.5+ KB\n"
     ]
    }
   ],
   "source": [
    "faridabadYield = pd.read_csv('Faridabad.csv',skiprows=1,header=None, names=colNames)\n",
    "faridabadYield.info()"
   ]
  },
  {
   "cell_type": "code",
   "execution_count": 9,
   "metadata": {},
   "outputs": [
    {
     "name": "stdout",
     "output_type": "stream",
     "text": [
      "<class 'pandas.core.frame.DataFrame'>\n",
      "RangeIndex: 13 entries, 0 to 12\n",
      "Data columns (total 13 columns):\n",
      " #   Column            Non-Null Count  Dtype  \n",
      "---  ------            --------------  -----  \n",
      " 0   date              13 non-null     object \n",
      " 1   district          13 non-null     object \n",
      " 2   so2               13 non-null     float64\n",
      " 3   no2               13 non-null     float64\n",
      " 4   rspm              13 non-null     float64\n",
      " 5   spm               13 non-null     float64\n",
      " 6   aqi               13 non-null     float64\n",
      " 7   rice_area         13 non-null     int64  \n",
      " 8   rice_production   13 non-null     int64  \n",
      " 9   rice_yield        13 non-null     float64\n",
      " 10  wheat_area        13 non-null     int64  \n",
      " 11  wheat_production  13 non-null     int64  \n",
      " 12  wheat_yield       13 non-null     float64\n",
      "dtypes: float64(7), int64(4), object(2)\n",
      "memory usage: 1.4+ KB\n"
     ]
    }
   ],
   "source": [
    "kanpurYield = pd.read_csv('Kanpur.csv',skiprows=1,header=None, names=colNames)\n",
    "kanpurYield.info()"
   ]
  },
  {
   "cell_type": "code",
   "execution_count": 10,
   "metadata": {},
   "outputs": [
    {
     "name": "stdout",
     "output_type": "stream",
     "text": [
      "<class 'pandas.core.frame.DataFrame'>\n",
      "RangeIndex: 13 entries, 0 to 12\n",
      "Data columns (total 13 columns):\n",
      " #   Column            Non-Null Count  Dtype  \n",
      "---  ------            --------------  -----  \n",
      " 0   date              13 non-null     object \n",
      " 1   district          13 non-null     object \n",
      " 2   so2               13 non-null     float64\n",
      " 3   no2               13 non-null     float64\n",
      " 4   rspm              13 non-null     float64\n",
      " 5   spm               13 non-null     float64\n",
      " 6   aqi               13 non-null     float64\n",
      " 7   rice_area         13 non-null     int64  \n",
      " 8   rice_production   13 non-null     int64  \n",
      " 9   rice_yield        13 non-null     float64\n",
      " 10  wheat_area        13 non-null     int64  \n",
      " 11  wheat_production  13 non-null     int64  \n",
      " 12  wheat_yield       13 non-null     float64\n",
      "dtypes: float64(7), int64(4), object(2)\n",
      "memory usage: 1.4+ KB\n"
     ]
    }
   ],
   "source": [
    "lucknowYield = pd.read_csv('Lucknow.csv',skiprows=1,header=None, names=colNames)\n",
    "lucknowYield.info()"
   ]
  },
  {
   "cell_type": "markdown",
   "metadata": {},
   "source": [
    "### Data Profile Summary\n",
    "\n",
    ">  Only Ahmedabad.csv had Data Quality issues.  All other files seems fine.  \n",
    "\n",
    "**Let us combine all the dataframes into one**\n"
   ]
  },
  {
   "cell_type": "code",
   "execution_count": 11,
   "metadata": {},
   "outputs": [
    {
     "data": {
      "text/html": [
       "<div>\n",
       "<style scoped>\n",
       "    .dataframe tbody tr th:only-of-type {\n",
       "        vertical-align: middle;\n",
       "    }\n",
       "\n",
       "    .dataframe tbody tr th {\n",
       "        vertical-align: top;\n",
       "    }\n",
       "\n",
       "    .dataframe thead th {\n",
       "        text-align: right;\n",
       "    }\n",
       "</style>\n",
       "<table border=\"1\" class=\"dataframe\">\n",
       "  <thead>\n",
       "    <tr style=\"text-align: right;\">\n",
       "      <th></th>\n",
       "      <th>date</th>\n",
       "      <th>district</th>\n",
       "      <th>so2</th>\n",
       "      <th>no2</th>\n",
       "      <th>rspm</th>\n",
       "      <th>spm</th>\n",
       "      <th>aqi</th>\n",
       "      <th>rice_area</th>\n",
       "      <th>rice_production</th>\n",
       "      <th>rice_yield</th>\n",
       "      <th>wheat_area</th>\n",
       "      <th>wheat_production</th>\n",
       "      <th>wheat_yield</th>\n",
       "    </tr>\n",
       "  </thead>\n",
       "  <tbody>\n",
       "    <tr>\n",
       "      <th>0</th>\n",
       "      <td>1998-99</td>\n",
       "      <td>AHMEDABAD</td>\n",
       "      <td>7.850000</td>\n",
       "      <td>17.208333</td>\n",
       "      <td>104.200455</td>\n",
       "      <td>235.000000</td>\n",
       "      <td>235.000000</td>\n",
       "      <td>52200</td>\n",
       "      <td>72600</td>\n",
       "      <td>1.390805</td>\n",
       "      <td>91600</td>\n",
       "      <td>138900</td>\n",
       "      <td>1.516376</td>\n",
       "    </tr>\n",
       "    <tr>\n",
       "      <th>1</th>\n",
       "      <td>1999-00</td>\n",
       "      <td>AHMEDABAD</td>\n",
       "      <td>6.925000</td>\n",
       "      <td>16.608333</td>\n",
       "      <td>104.200455</td>\n",
       "      <td>300.000000</td>\n",
       "      <td>300.000000</td>\n",
       "      <td>75100</td>\n",
       "      <td>78900</td>\n",
       "      <td>1.050599</td>\n",
       "      <td>84000</td>\n",
       "      <td>114800</td>\n",
       "      <td>1.366667</td>\n",
       "    </tr>\n",
       "    <tr>\n",
       "      <th>2</th>\n",
       "      <td>2000-01</td>\n",
       "      <td>AHMEDABAD</td>\n",
       "      <td>10.175000</td>\n",
       "      <td>32.300000</td>\n",
       "      <td>104.200455</td>\n",
       "      <td>335.750000</td>\n",
       "      <td>335.750000</td>\n",
       "      <td>84100</td>\n",
       "      <td>37500</td>\n",
       "      <td>0.445898</td>\n",
       "      <td>48700</td>\n",
       "      <td>78500</td>\n",
       "      <td>1.611910</td>\n",
       "    </tr>\n",
       "    <tr>\n",
       "      <th>3</th>\n",
       "      <td>2001-02</td>\n",
       "      <td>AHMEDABAD</td>\n",
       "      <td>13.466667</td>\n",
       "      <td>33.408333</td>\n",
       "      <td>104.200455</td>\n",
       "      <td>261.750000</td>\n",
       "      <td>261.750000</td>\n",
       "      <td>82000</td>\n",
       "      <td>144300</td>\n",
       "      <td>1.759756</td>\n",
       "      <td>81000</td>\n",
       "      <td>103500</td>\n",
       "      <td>1.277778</td>\n",
       "    </tr>\n",
       "    <tr>\n",
       "      <th>4</th>\n",
       "      <td>2002-03</td>\n",
       "      <td>AHMEDABAD</td>\n",
       "      <td>16.187982</td>\n",
       "      <td>28.496361</td>\n",
       "      <td>104.200455</td>\n",
       "      <td>233.611749</td>\n",
       "      <td>233.611749</td>\n",
       "      <td>47500</td>\n",
       "      <td>39300</td>\n",
       "      <td>0.827368</td>\n",
       "      <td>79500</td>\n",
       "      <td>107400</td>\n",
       "      <td>1.350943</td>\n",
       "    </tr>\n",
       "    <tr>\n",
       "      <th>...</th>\n",
       "      <td>...</td>\n",
       "      <td>...</td>\n",
       "      <td>...</td>\n",
       "      <td>...</td>\n",
       "      <td>...</td>\n",
       "      <td>...</td>\n",
       "      <td>...</td>\n",
       "      <td>...</td>\n",
       "      <td>...</td>\n",
       "      <td>...</td>\n",
       "      <td>...</td>\n",
       "      <td>...</td>\n",
       "      <td>...</td>\n",
       "    </tr>\n",
       "    <tr>\n",
       "      <th>59</th>\n",
       "      <td>2006-07</td>\n",
       "      <td>LUCKNOW</td>\n",
       "      <td>8.709932</td>\n",
       "      <td>32.565068</td>\n",
       "      <td>192.534247</td>\n",
       "      <td>401.825342</td>\n",
       "      <td>401.825342</td>\n",
       "      <td>48107</td>\n",
       "      <td>93520</td>\n",
       "      <td>1.944000</td>\n",
       "      <td>84067</td>\n",
       "      <td>224459</td>\n",
       "      <td>2.670001</td>\n",
       "    </tr>\n",
       "    <tr>\n",
       "      <th>60</th>\n",
       "      <td>2007-08</td>\n",
       "      <td>LUCKNOW</td>\n",
       "      <td>8.402419</td>\n",
       "      <td>36.309312</td>\n",
       "      <td>195.682731</td>\n",
       "      <td>409.325301</td>\n",
       "      <td>409.325301</td>\n",
       "      <td>47542</td>\n",
       "      <td>87097</td>\n",
       "      <td>1.832001</td>\n",
       "      <td>82853</td>\n",
       "      <td>213761</td>\n",
       "      <td>2.580003</td>\n",
       "    </tr>\n",
       "    <tr>\n",
       "      <th>61</th>\n",
       "      <td>2008-09</td>\n",
       "      <td>LUCKNOW</td>\n",
       "      <td>8.523810</td>\n",
       "      <td>36.335498</td>\n",
       "      <td>201.774892</td>\n",
       "      <td>422.164502</td>\n",
       "      <td>422.164502</td>\n",
       "      <td>56308</td>\n",
       "      <td>118810</td>\n",
       "      <td>2.110002</td>\n",
       "      <td>83894</td>\n",
       "      <td>229032</td>\n",
       "      <td>2.730016</td>\n",
       "    </tr>\n",
       "    <tr>\n",
       "      <th>62</th>\n",
       "      <td>2009-10</td>\n",
       "      <td>LUCKNOW</td>\n",
       "      <td>7.945567</td>\n",
       "      <td>34.048994</td>\n",
       "      <td>213.155508</td>\n",
       "      <td>388.263100</td>\n",
       "      <td>388.263100</td>\n",
       "      <td>43551</td>\n",
       "      <td>95333</td>\n",
       "      <td>2.188997</td>\n",
       "      <td>85135</td>\n",
       "      <td>226629</td>\n",
       "      <td>2.661996</td>\n",
       "    </tr>\n",
       "    <tr>\n",
       "      <th>63</th>\n",
       "      <td>2010-11</td>\n",
       "      <td>LUCKNOW</td>\n",
       "      <td>8.076642</td>\n",
       "      <td>32.978182</td>\n",
       "      <td>189.094546</td>\n",
       "      <td>334.672026</td>\n",
       "      <td>334.672026</td>\n",
       "      <td>48833</td>\n",
       "      <td>93320</td>\n",
       "      <td>1.911003</td>\n",
       "      <td>83618</td>\n",
       "      <td>236473</td>\n",
       "      <td>2.828015</td>\n",
       "    </tr>\n",
       "  </tbody>\n",
       "</table>\n",
       "<p>64 rows × 13 columns</p>\n",
       "</div>"
      ],
      "text/plain": [
       "       date   district        so2        no2        rspm         spm  \\\n",
       "0   1998-99  AHMEDABAD   7.850000  17.208333  104.200455  235.000000   \n",
       "1   1999-00  AHMEDABAD   6.925000  16.608333  104.200455  300.000000   \n",
       "2   2000-01  AHMEDABAD  10.175000  32.300000  104.200455  335.750000   \n",
       "3   2001-02  AHMEDABAD  13.466667  33.408333  104.200455  261.750000   \n",
       "4   2002-03  AHMEDABAD  16.187982  28.496361  104.200455  233.611749   \n",
       "..      ...        ...        ...        ...         ...         ...   \n",
       "59  2006-07    LUCKNOW   8.709932  32.565068  192.534247  401.825342   \n",
       "60  2007-08    LUCKNOW   8.402419  36.309312  195.682731  409.325301   \n",
       "61  2008-09    LUCKNOW   8.523810  36.335498  201.774892  422.164502   \n",
       "62  2009-10    LUCKNOW   7.945567  34.048994  213.155508  388.263100   \n",
       "63  2010-11    LUCKNOW   8.076642  32.978182  189.094546  334.672026   \n",
       "\n",
       "           aqi  rice_area  rice_production  rice_yield  wheat_area  \\\n",
       "0   235.000000      52200            72600    1.390805       91600   \n",
       "1   300.000000      75100            78900    1.050599       84000   \n",
       "2   335.750000      84100            37500    0.445898       48700   \n",
       "3   261.750000      82000           144300    1.759756       81000   \n",
       "4   233.611749      47500            39300    0.827368       79500   \n",
       "..         ...        ...              ...         ...         ...   \n",
       "59  401.825342      48107            93520    1.944000       84067   \n",
       "60  409.325301      47542            87097    1.832001       82853   \n",
       "61  422.164502      56308           118810    2.110002       83894   \n",
       "62  388.263100      43551            95333    2.188997       85135   \n",
       "63  334.672026      48833            93320    1.911003       83618   \n",
       "\n",
       "    wheat_production  wheat_yield  \n",
       "0             138900     1.516376  \n",
       "1             114800     1.366667  \n",
       "2              78500     1.611910  \n",
       "3             103500     1.277778  \n",
       "4             107400     1.350943  \n",
       "..               ...          ...  \n",
       "59            224459     2.670001  \n",
       "60            213761     2.580003  \n",
       "61            229032     2.730016  \n",
       "62            226629     2.661996  \n",
       "63            236473     2.828015  \n",
       "\n",
       "[64 rows x 13 columns]"
      ]
     },
     "execution_count": 11,
     "metadata": {},
     "output_type": "execute_result"
    }
   ],
   "source": [
    "combinedYieldsDF = pd.concat([ahmedabadYield, delhiYield, faridabadYield, kanpurYield, lucknowYield], ignore_index=True)\n",
    "combinedYieldsDF"
   ]
  },
  {
   "cell_type": "code",
   "execution_count": null,
   "metadata": {},
   "outputs": [],
   "source": []
  },
  {
   "cell_type": "markdown",
   "metadata": {},
   "source": [
    "## Helper Functions"
   ]
  },
  {
   "cell_type": "code",
   "execution_count": 12,
   "metadata": {},
   "outputs": [],
   "source": [
    "# These are functions of our own design based on suggestions made in fundamentals\n",
    "# to create a summary statistics generating function that we like\n",
    "def describe_numerical(series):\n",
    "    summary_stats_df = pd.DataFrame(series.describe())\n",
    "\n",
    "    summary_stats_df.loc['range'] = summary_stats_df.loc['max'] - summary_stats_df.loc['min']\n",
    "    summary_stats_df.loc['iqr'] = summary_stats_df.loc['75%'] - summary_stats_df.loc['25%']\n",
    "\n",
    "    if summary_stats_df.loc['mean'][summary_stats_df.columns[0]] != 0:\n",
    "        summary_stats_df.loc['cov'] = summary_stats_df.loc['std'] / summary_stats_df.loc['mean']\n",
    "\n",
    "    if summary_stats_df.loc['50%'][summary_stats_df.columns[0]] != 0:\n",
    "        summary_stats_df.loc['qcv'] = summary_stats_df.loc['iqr'] / summary_stats_df.loc['50%']\n",
    "\n",
    "    return summary_stats_df"
   ]
  },
  {
   "cell_type": "code",
   "execution_count": 13,
   "metadata": {},
   "outputs": [],
   "source": [
    "def style_boxplot(boxplot_patch):\n",
    "    for median in boxplot_patch['medians']:\n",
    "        median.set_color('black')\n",
    "\n",
    "    for flier in boxplot_patch['fliers']:\n",
    "        flier.set_alpha(0.3)\n",
    "\n",
    "    for box in boxplot_patch['boxes']:\n",
    "        box.set_facecolor('dimgray')"
   ]
  },
  {
   "cell_type": "code",
   "execution_count": 14,
   "metadata": {},
   "outputs": [],
   "source": [
    "def correlation(data: DataFrame, x: str, y: str, categorical_x: bool = False) -> DataFrame:\n",
    "    \"\"\"\n",
    "    Computes the Pearson Correlation Coefficient and\n",
    "    Spearman Rank Correlation Coefficient between two\n",
    "    variables in the DataFrame, or computes the Point-Biserial\n",
    "    Coefficient between a categorical and numerical variable.\n",
    "    \n",
    "    Parameters\n",
    "    ----------\n",
    "    data: pandas.DataFrame\n",
    "        The data containing the two variables\n",
    "        \n",
    "    x: str\n",
    "        The name of the column of the first variable\n",
    "        \n",
    "    y: str\n",
    "        The name of the column of the second variable\n",
    "        \n",
    "    categorical_x: bool\n",
    "        Boolean flag indicating if x is a categorical variable\n",
    "        \n",
    "    Returns\n",
    "    -------\n",
    "    pandas.DataFrame\n",
    "    \"\"\"\n",
    "    # can't handle nulls so we need to remove them pairwise\n",
    "    _data = data[[x, y]].copy().dropna()\n",
    "    \n",
    "    if categorical_x:\n",
    "      _categorical_x_data = preprocessing.LabelEncoder().fit_transform(_data[x])\n",
    "      return DataFrame({\n",
    "          'Point-Biserial, 𝑟𝑝𝑏': stats.pointbiserialr(_categorical_x_data, _data[y])[0]\n",
    "      },\n",
    "        index=['Correlation']\n",
    "      ).T\n",
    "\n",
    "    return DataFrame({\n",
    "        'Pearson, 𝑟': stats.pearsonr(_data[x], _data[y])[0],\n",
    "        'Spearman, 𝜌': stats.spearmanr(_data[x], _data[y])[0]\n",
    "    },\n",
    "        index=['Correlation']\n",
    "    ).T"
   ]
  },
  {
   "cell_type": "markdown",
   "metadata": {},
   "source": [
    "## Single-Variable EDA\n",
    "\n",
    "No Area & Production\n",
    "\n"
   ]
  },
  {
   "cell_type": "markdown",
   "metadata": {},
   "source": [
    "### Date"
   ]
  },
  {
   "cell_type": "code",
   "execution_count": 15,
   "metadata": {},
   "outputs": [
    {
     "data": {
      "text/html": [
       "<div>\n",
       "<style scoped>\n",
       "    .dataframe tbody tr th:only-of-type {\n",
       "        vertical-align: middle;\n",
       "    }\n",
       "\n",
       "    .dataframe tbody tr th {\n",
       "        vertical-align: top;\n",
       "    }\n",
       "\n",
       "    .dataframe thead th {\n",
       "        text-align: right;\n",
       "    }\n",
       "</style>\n",
       "<table border=\"1\" class=\"dataframe\">\n",
       "  <thead>\n",
       "    <tr style=\"text-align: right;\">\n",
       "      <th></th>\n",
       "      <th>date</th>\n",
       "    </tr>\n",
       "  </thead>\n",
       "  <tbody>\n",
       "    <tr>\n",
       "      <th>1998-99</th>\n",
       "      <td>5</td>\n",
       "    </tr>\n",
       "    <tr>\n",
       "      <th>1999-00</th>\n",
       "      <td>5</td>\n",
       "    </tr>\n",
       "    <tr>\n",
       "      <th>2000-01</th>\n",
       "      <td>5</td>\n",
       "    </tr>\n",
       "    <tr>\n",
       "      <th>2001-02</th>\n",
       "      <td>5</td>\n",
       "    </tr>\n",
       "    <tr>\n",
       "      <th>2002-03</th>\n",
       "      <td>5</td>\n",
       "    </tr>\n",
       "    <tr>\n",
       "      <th>2003-04</th>\n",
       "      <td>5</td>\n",
       "    </tr>\n",
       "    <tr>\n",
       "      <th>2004-05</th>\n",
       "      <td>5</td>\n",
       "    </tr>\n",
       "    <tr>\n",
       "      <th>2005-06</th>\n",
       "      <td>5</td>\n",
       "    </tr>\n",
       "    <tr>\n",
       "      <th>2006-07</th>\n",
       "      <td>5</td>\n",
       "    </tr>\n",
       "    <tr>\n",
       "      <th>2007-08</th>\n",
       "      <td>5</td>\n",
       "    </tr>\n",
       "    <tr>\n",
       "      <th>2008-09</th>\n",
       "      <td>4</td>\n",
       "    </tr>\n",
       "    <tr>\n",
       "      <th>2009-10</th>\n",
       "      <td>4</td>\n",
       "    </tr>\n",
       "    <tr>\n",
       "      <th>2010-11</th>\n",
       "      <td>4</td>\n",
       "    </tr>\n",
       "    <tr>\n",
       "      <th>2011-12</th>\n",
       "      <td>2</td>\n",
       "    </tr>\n",
       "  </tbody>\n",
       "</table>\n",
       "</div>"
      ],
      "text/plain": [
       "         date\n",
       "1998-99     5\n",
       "1999-00     5\n",
       "2000-01     5\n",
       "2001-02     5\n",
       "2002-03     5\n",
       "2003-04     5\n",
       "2004-05     5\n",
       "2005-06     5\n",
       "2006-07     5\n",
       "2007-08     5\n",
       "2008-09     4\n",
       "2009-10     4\n",
       "2010-11     4\n",
       "2011-12     2"
      ]
     },
     "execution_count": 15,
     "metadata": {},
     "output_type": "execute_result"
    }
   ],
   "source": [
    "pd.DataFrame(combinedYieldsDF['date'].value_counts().sort_index())"
   ]
  },
  {
   "cell_type": "markdown",
   "metadata": {},
   "source": [
    "### District"
   ]
  },
  {
   "cell_type": "code",
   "execution_count": 16,
   "metadata": {},
   "outputs": [
    {
     "data": {
      "text/html": [
       "<div>\n",
       "<style scoped>\n",
       "    .dataframe tbody tr th:only-of-type {\n",
       "        vertical-align: middle;\n",
       "    }\n",
       "\n",
       "    .dataframe tbody tr th {\n",
       "        vertical-align: top;\n",
       "    }\n",
       "\n",
       "    .dataframe thead th {\n",
       "        text-align: right;\n",
       "    }\n",
       "</style>\n",
       "<table border=\"1\" class=\"dataframe\">\n",
       "  <thead>\n",
       "    <tr style=\"text-align: right;\">\n",
       "      <th></th>\n",
       "      <th>district</th>\n",
       "    </tr>\n",
       "  </thead>\n",
       "  <tbody>\n",
       "    <tr>\n",
       "      <th>AHMEDABAD</th>\n",
       "      <td>14</td>\n",
       "    </tr>\n",
       "    <tr>\n",
       "      <th>DELHI</th>\n",
       "      <td>10</td>\n",
       "    </tr>\n",
       "    <tr>\n",
       "      <th>FARIDABAD</th>\n",
       "      <td>14</td>\n",
       "    </tr>\n",
       "    <tr>\n",
       "      <th>KANPUR</th>\n",
       "      <td>13</td>\n",
       "    </tr>\n",
       "    <tr>\n",
       "      <th>LUCKNOW</th>\n",
       "      <td>13</td>\n",
       "    </tr>\n",
       "  </tbody>\n",
       "</table>\n",
       "</div>"
      ],
      "text/plain": [
       "           district\n",
       "AHMEDABAD        14\n",
       "DELHI            10\n",
       "FARIDABAD        14\n",
       "KANPUR           13\n",
       "LUCKNOW          13"
      ]
     },
     "execution_count": 16,
     "metadata": {},
     "output_type": "execute_result"
    }
   ],
   "source": [
    "pd.DataFrame(combinedYieldsDF['district'].value_counts().sort_index())"
   ]
  },
  {
   "cell_type": "markdown",
   "metadata": {},
   "source": [
    "### SO2"
   ]
  },
  {
   "cell_type": "code",
   "execution_count": 17,
   "metadata": {},
   "outputs": [
    {
     "data": {
      "text/html": [
       "<div>\n",
       "<style scoped>\n",
       "    .dataframe tbody tr th:only-of-type {\n",
       "        vertical-align: middle;\n",
       "    }\n",
       "\n",
       "    .dataframe tbody tr th {\n",
       "        vertical-align: top;\n",
       "    }\n",
       "\n",
       "    .dataframe thead th {\n",
       "        text-align: right;\n",
       "    }\n",
       "</style>\n",
       "<table border=\"1\" class=\"dataframe\">\n",
       "  <thead>\n",
       "    <tr style=\"text-align: right;\">\n",
       "      <th></th>\n",
       "      <th>so2</th>\n",
       "    </tr>\n",
       "  </thead>\n",
       "  <tbody>\n",
       "    <tr>\n",
       "      <th>count</th>\n",
       "      <td>64.000000</td>\n",
       "    </tr>\n",
       "    <tr>\n",
       "      <th>mean</th>\n",
       "      <td>13.545100</td>\n",
       "    </tr>\n",
       "    <tr>\n",
       "      <th>std</th>\n",
       "      <td>6.765872</td>\n",
       "    </tr>\n",
       "    <tr>\n",
       "      <th>min</th>\n",
       "      <td>5.554891</td>\n",
       "    </tr>\n",
       "    <tr>\n",
       "      <th>25%</th>\n",
       "      <td>8.458890</td>\n",
       "    </tr>\n",
       "    <tr>\n",
       "      <th>50%</th>\n",
       "      <td>11.654376</td>\n",
       "    </tr>\n",
       "    <tr>\n",
       "      <th>75%</th>\n",
       "      <td>16.621683</td>\n",
       "    </tr>\n",
       "    <tr>\n",
       "      <th>max</th>\n",
       "      <td>36.600000</td>\n",
       "    </tr>\n",
       "    <tr>\n",
       "      <th>range</th>\n",
       "      <td>31.045109</td>\n",
       "    </tr>\n",
       "    <tr>\n",
       "      <th>iqr</th>\n",
       "      <td>8.162792</td>\n",
       "    </tr>\n",
       "    <tr>\n",
       "      <th>cov</th>\n",
       "      <td>0.499507</td>\n",
       "    </tr>\n",
       "    <tr>\n",
       "      <th>qcv</th>\n",
       "      <td>0.700406</td>\n",
       "    </tr>\n",
       "  </tbody>\n",
       "</table>\n",
       "</div>"
      ],
      "text/plain": [
       "             so2\n",
       "count  64.000000\n",
       "mean   13.545100\n",
       "std     6.765872\n",
       "min     5.554891\n",
       "25%     8.458890\n",
       "50%    11.654376\n",
       "75%    16.621683\n",
       "max    36.600000\n",
       "range  31.045109\n",
       "iqr     8.162792\n",
       "cov     0.499507\n",
       "qcv     0.700406"
      ]
     },
     "execution_count": 17,
     "metadata": {},
     "output_type": "execute_result"
    }
   ],
   "source": [
    "describe_numerical(combinedYieldsDF['so2'])"
   ]
  },
  {
   "cell_type": "code",
   "execution_count": 18,
   "metadata": {
    "scrolled": true
   },
   "outputs": [
    {
     "data": {
      "image/png": "[encoded data removed]",
      "text/plain": [
       "<Figure size 1440x720 with 1 Axes>"
      ]
     },
     "metadata": {
      "needs_background": "light"
     },
     "output_type": "display_data"
    }
   ],
   "source": [
    "plt.figure(figsize=(20,10))\n",
    "patch = plt.boxplot(combinedYieldsDF['so2'], vert=False, patch_artist=True)\n",
    "style_boxplot(patch)\n",
    "plt.show()"
   ]
  },
  {
   "cell_type": "code",
   "execution_count": 19,
   "metadata": {},
   "outputs": [
    {
     "data": {
      "text/html": [
       "<div>\n",
       "<style scoped>\n",
       "    .dataframe tbody tr th:only-of-type {\n",
       "        vertical-align: middle;\n",
       "    }\n",
       "\n",
       "    .dataframe tbody tr th {\n",
       "        vertical-align: top;\n",
       "    }\n",
       "\n",
       "    .dataframe thead th {\n",
       "        text-align: right;\n",
       "    }\n",
       "</style>\n",
       "<table border=\"1\" class=\"dataframe\">\n",
       "  <thead>\n",
       "    <tr style=\"text-align: right;\">\n",
       "      <th></th>\n",
       "      <th>date</th>\n",
       "      <th>district</th>\n",
       "      <th>so2</th>\n",
       "      <th>no2</th>\n",
       "      <th>rspm</th>\n",
       "      <th>spm</th>\n",
       "      <th>aqi</th>\n",
       "      <th>rice_area</th>\n",
       "      <th>rice_production</th>\n",
       "      <th>rice_yield</th>\n",
       "      <th>wheat_area</th>\n",
       "      <th>wheat_production</th>\n",
       "      <th>wheat_yield</th>\n",
       "    </tr>\n",
       "  </thead>\n",
       "  <tbody>\n",
       "    <tr>\n",
       "      <th>24</th>\n",
       "      <td>1998-99</td>\n",
       "      <td>FARIDABAD</td>\n",
       "      <td>35.9</td>\n",
       "      <td>12.066667</td>\n",
       "      <td>164.467617</td>\n",
       "      <td>435.000000</td>\n",
       "      <td>435.000000</td>\n",
       "      <td>30124</td>\n",
       "      <td>70000</td>\n",
       "      <td>2.323729</td>\n",
       "      <td>128881</td>\n",
       "      <td>459000</td>\n",
       "      <td>3.561425</td>\n",
       "    </tr>\n",
       "    <tr>\n",
       "      <th>25</th>\n",
       "      <td>1999-00</td>\n",
       "      <td>FARIDABAD</td>\n",
       "      <td>36.6</td>\n",
       "      <td>11.033333</td>\n",
       "      <td>164.467617</td>\n",
       "      <td>403.666667</td>\n",
       "      <td>403.666667</td>\n",
       "      <td>28820</td>\n",
       "      <td>58000</td>\n",
       "      <td>2.012491</td>\n",
       "      <td>130923</td>\n",
       "      <td>545000</td>\n",
       "      <td>4.162752</td>\n",
       "    </tr>\n",
       "  </tbody>\n",
       "</table>\n",
       "</div>"
      ],
      "text/plain": [
       "       date   district   so2        no2        rspm         spm         aqi  \\\n",
       "24  1998-99  FARIDABAD  35.9  12.066667  164.467617  435.000000  435.000000   \n",
       "25  1999-00  FARIDABAD  36.6  11.033333  164.467617  403.666667  403.666667   \n",
       "\n",
       "    rice_area  rice_production  rice_yield  wheat_area  wheat_production  \\\n",
       "24      30124            70000    2.323729      128881            459000   \n",
       "25      28820            58000    2.012491      130923            545000   \n",
       "\n",
       "    wheat_yield  \n",
       "24     3.561425  \n",
       "25     4.162752  "
      ]
     },
     "execution_count": 19,
     "metadata": {},
     "output_type": "execute_result"
    }
   ],
   "source": [
    "combinedYieldsDF[combinedYieldsDF['so2'] > 30]"
   ]
  },
  {
   "cell_type": "markdown",
   "metadata": {},
   "source": [
    "**Remove Outliers**\n",
    "\n",
    "> As the above two records are clearly outliers, we can remove them."
   ]
  },
  {
   "cell_type": "code",
   "execution_count": 20,
   "metadata": {},
   "outputs": [],
   "source": [
    "finalYieldsDF = combinedYieldsDF[combinedYieldsDF['so2'] <= 30]"
   ]
  },
  {
   "cell_type": "markdown",
   "metadata": {},
   "source": [
    "### NO2"
   ]
  },
  {
   "cell_type": "code",
   "execution_count": 21,
   "metadata": {},
   "outputs": [
    {
     "data": {
      "text/html": [
       "<div>\n",
       "<style scoped>\n",
       "    .dataframe tbody tr th:only-of-type {\n",
       "        vertical-align: middle;\n",
       "    }\n",
       "\n",
       "    .dataframe tbody tr th {\n",
       "        vertical-align: top;\n",
       "    }\n",
       "\n",
       "    .dataframe thead th {\n",
       "        text-align: right;\n",
       "    }\n",
       "</style>\n",
       "<table border=\"1\" class=\"dataframe\">\n",
       "  <thead>\n",
       "    <tr style=\"text-align: right;\">\n",
       "      <th></th>\n",
       "      <th>no2</th>\n",
       "    </tr>\n",
       "  </thead>\n",
       "  <tbody>\n",
       "    <tr>\n",
       "      <th>count</th>\n",
       "      <td>64.000000</td>\n",
       "    </tr>\n",
       "    <tr>\n",
       "      <th>mean</th>\n",
       "      <td>28.175477</td>\n",
       "    </tr>\n",
       "    <tr>\n",
       "      <th>std</th>\n",
       "      <td>9.691153</td>\n",
       "    </tr>\n",
       "    <tr>\n",
       "      <th>min</th>\n",
       "      <td>11.033333</td>\n",
       "    </tr>\n",
       "    <tr>\n",
       "      <th>25%</th>\n",
       "      <td>21.077343</td>\n",
       "    </tr>\n",
       "    <tr>\n",
       "      <th>50%</th>\n",
       "      <td>28.156074</td>\n",
       "    </tr>\n",
       "    <tr>\n",
       "      <th>75%</th>\n",
       "      <td>33.487500</td>\n",
       "    </tr>\n",
       "    <tr>\n",
       "      <th>max</th>\n",
       "      <td>60.762205</td>\n",
       "    </tr>\n",
       "    <tr>\n",
       "      <th>range</th>\n",
       "      <td>49.728871</td>\n",
       "    </tr>\n",
       "    <tr>\n",
       "      <th>iqr</th>\n",
       "      <td>12.410157</td>\n",
       "    </tr>\n",
       "    <tr>\n",
       "      <th>cov</th>\n",
       "      <td>0.343957</td>\n",
       "    </tr>\n",
       "    <tr>\n",
       "      <th>qcv</th>\n",
       "      <td>0.440763</td>\n",
       "    </tr>\n",
       "  </tbody>\n",
       "</table>\n",
       "</div>"
      ],
      "text/plain": [
       "             no2\n",
       "count  64.000000\n",
       "mean   28.175477\n",
       "std     9.691153\n",
       "min    11.033333\n",
       "25%    21.077343\n",
       "50%    28.156074\n",
       "75%    33.487500\n",
       "max    60.762205\n",
       "range  49.728871\n",
       "iqr    12.410157\n",
       "cov     0.343957\n",
       "qcv     0.440763"
      ]
     },
     "execution_count": 21,
     "metadata": {},
     "output_type": "execute_result"
    }
   ],
   "source": [
    "describe_numerical(combinedYieldsDF['no2'])"
   ]
  },
  {
   "cell_type": "code",
   "execution_count": 22,
   "metadata": {},
   "outputs": [
    {
     "data": {
      "image/png": "[encoded data removed]",
      "text/plain": [
       "<Figure size 1440x720 with 1 Axes>"
      ]
     },
     "metadata": {
      "needs_background": "light"
     },
     "output_type": "display_data"
    }
   ],
   "source": [
    "plt.figure(figsize=(20,10))\n",
    "patch = plt.boxplot(combinedYieldsDF['no2'], vert=False, patch_artist=True)\n",
    "style_boxplot(patch)\n",
    "plt.show()"
   ]
  },
  {
   "cell_type": "code",
   "execution_count": 23,
   "metadata": {
    "scrolled": true
   },
   "outputs": [
    {
     "data": {
      "text/html": [
       "<div>\n",
       "<style scoped>\n",
       "    .dataframe tbody tr th:only-of-type {\n",
       "        vertical-align: middle;\n",
       "    }\n",
       "\n",
       "    .dataframe tbody tr th {\n",
       "        vertical-align: top;\n",
       "    }\n",
       "\n",
       "    .dataframe thead th {\n",
       "        text-align: right;\n",
       "    }\n",
       "</style>\n",
       "<table border=\"1\" class=\"dataframe\">\n",
       "  <thead>\n",
       "    <tr style=\"text-align: right;\">\n",
       "      <th></th>\n",
       "      <th>date</th>\n",
       "      <th>district</th>\n",
       "      <th>so2</th>\n",
       "      <th>no2</th>\n",
       "      <th>rspm</th>\n",
       "      <th>spm</th>\n",
       "      <th>aqi</th>\n",
       "      <th>rice_area</th>\n",
       "      <th>rice_production</th>\n",
       "      <th>rice_yield</th>\n",
       "      <th>wheat_area</th>\n",
       "      <th>wheat_production</th>\n",
       "      <th>wheat_yield</th>\n",
       "    </tr>\n",
       "  </thead>\n",
       "  <tbody>\n",
       "    <tr>\n",
       "      <th>23</th>\n",
       "      <td>2007-08</td>\n",
       "      <td>DELHI</td>\n",
       "      <td>8.458228</td>\n",
       "      <td>60.762205</td>\n",
       "      <td>223.590164</td>\n",
       "      <td>467.917323</td>\n",
       "      <td>467.917323</td>\n",
       "      <td>7419</td>\n",
       "      <td>20946</td>\n",
       "      <td>2.823292</td>\n",
       "      <td>17482</td>\n",
       "      <td>76222</td>\n",
       "      <td>4.360027</td>\n",
       "    </tr>\n",
       "  </tbody>\n",
       "</table>\n",
       "</div>"
      ],
      "text/plain": [
       "       date district       so2        no2        rspm         spm         aqi  \\\n",
       "23  2007-08    DELHI  8.458228  60.762205  223.590164  467.917323  467.917323   \n",
       "\n",
       "    rice_area  rice_production  rice_yield  wheat_area  wheat_production  \\\n",
       "23       7419            20946    2.823292       17482             76222   \n",
       "\n",
       "    wheat_yield  \n",
       "23     4.360027  "
      ]
     },
     "execution_count": 23,
     "metadata": {},
     "output_type": "execute_result"
    }
   ],
   "source": [
    "finalYieldsDF[finalYieldsDF['no2'] > 50]"
   ]
  },
  {
   "cell_type": "markdown",
   "metadata": {},
   "source": [
    "**Remove Outliers**\n",
    "\n",
    "> As the above record is clearly outliers, we can remove them."
   ]
  },
  {
   "cell_type": "code",
   "execution_count": 24,
   "metadata": {},
   "outputs": [],
   "source": [
    "finalYieldsDF = finalYieldsDF[finalYieldsDF['no2'] <= 50]"
   ]
  },
  {
   "cell_type": "markdown",
   "metadata": {},
   "source": [
    "### RSPM"
   ]
  },
  {
   "cell_type": "code",
   "execution_count": 25,
   "metadata": {},
   "outputs": [
    {
     "data": {
      "text/html": [
       "<div>\n",
       "<style scoped>\n",
       "    .dataframe tbody tr th:only-of-type {\n",
       "        vertical-align: middle;\n",
       "    }\n",
       "\n",
       "    .dataframe tbody tr th {\n",
       "        vertical-align: top;\n",
       "    }\n",
       "\n",
       "    .dataframe thead th {\n",
       "        text-align: right;\n",
       "    }\n",
       "</style>\n",
       "<table border=\"1\" class=\"dataframe\">\n",
       "  <thead>\n",
       "    <tr style=\"text-align: right;\">\n",
       "      <th></th>\n",
       "      <th>rspm</th>\n",
       "    </tr>\n",
       "  </thead>\n",
       "  <tbody>\n",
       "    <tr>\n",
       "      <th>count</th>\n",
       "      <td>64.000000</td>\n",
       "    </tr>\n",
       "    <tr>\n",
       "      <th>mean</th>\n",
       "      <td>166.841525</td>\n",
       "    </tr>\n",
       "    <tr>\n",
       "      <th>std</th>\n",
       "      <td>37.818323</td>\n",
       "    </tr>\n",
       "    <tr>\n",
       "      <th>min</th>\n",
       "      <td>87.398089</td>\n",
       "    </tr>\n",
       "    <tr>\n",
       "      <th>25%</th>\n",
       "      <td>157.239089</td>\n",
       "    </tr>\n",
       "    <tr>\n",
       "      <th>50%</th>\n",
       "      <td>175.716895</td>\n",
       "    </tr>\n",
       "    <tr>\n",
       "      <th>75%</th>\n",
       "      <td>198.152590</td>\n",
       "    </tr>\n",
       "    <tr>\n",
       "      <th>max</th>\n",
       "      <td>223.590164</td>\n",
       "    </tr>\n",
       "    <tr>\n",
       "      <th>range</th>\n",
       "      <td>136.192075</td>\n",
       "    </tr>\n",
       "    <tr>\n",
       "      <th>iqr</th>\n",
       "      <td>40.913501</td>\n",
       "    </tr>\n",
       "    <tr>\n",
       "      <th>cov</th>\n",
       "      <td>0.226672</td>\n",
       "    </tr>\n",
       "    <tr>\n",
       "      <th>qcv</th>\n",
       "      <td>0.232838</td>\n",
       "    </tr>\n",
       "  </tbody>\n",
       "</table>\n",
       "</div>"
      ],
      "text/plain": [
       "             rspm\n",
       "count   64.000000\n",
       "mean   166.841525\n",
       "std     37.818323\n",
       "min     87.398089\n",
       "25%    157.239089\n",
       "50%    175.716895\n",
       "75%    198.152590\n",
       "max    223.590164\n",
       "range  136.192075\n",
       "iqr     40.913501\n",
       "cov      0.226672\n",
       "qcv      0.232838"
      ]
     },
     "execution_count": 25,
     "metadata": {},
     "output_type": "execute_result"
    }
   ],
   "source": [
    "describe_numerical(combinedYieldsDF['rspm'])"
   ]
  },
  {
   "cell_type": "code",
   "execution_count": 26,
   "metadata": {
    "scrolled": false
   },
   "outputs": [
    {
     "data": {
      "image/png": "[encoded data removed]",
      "text/plain": [
       "<Figure size 1440x720 with 1 Axes>"
      ]
     },
     "metadata": {
      "needs_background": "light"
     },
     "output_type": "display_data"
    }
   ],
   "source": [
    "plt.figure(figsize=(20,10))\n",
    "patch = plt.boxplot(combinedYieldsDF['rspm'], vert=False, patch_artist=True)\n",
    "style_boxplot(patch)\n",
    "plt.show()"
   ]
  },
  {
   "cell_type": "code",
   "execution_count": 27,
   "metadata": {
    "scrolled": true
   },
   "outputs": [
    {
     "data": {
      "text/html": [
       "<div>\n",
       "<style scoped>\n",
       "    .dataframe tbody tr th:only-of-type {\n",
       "        vertical-align: middle;\n",
       "    }\n",
       "\n",
       "    .dataframe tbody tr th {\n",
       "        vertical-align: top;\n",
       "    }\n",
       "\n",
       "    .dataframe thead th {\n",
       "        text-align: right;\n",
       "    }\n",
       "</style>\n",
       "<table border=\"1\" class=\"dataframe\">\n",
       "  <thead>\n",
       "    <tr style=\"text-align: right;\">\n",
       "      <th></th>\n",
       "      <th>date</th>\n",
       "      <th>district</th>\n",
       "      <th>so2</th>\n",
       "      <th>no2</th>\n",
       "      <th>rspm</th>\n",
       "      <th>spm</th>\n",
       "      <th>aqi</th>\n",
       "      <th>rice_area</th>\n",
       "      <th>rice_production</th>\n",
       "      <th>rice_yield</th>\n",
       "      <th>wheat_area</th>\n",
       "      <th>wheat_production</th>\n",
       "      <th>wheat_yield</th>\n",
       "    </tr>\n",
       "  </thead>\n",
       "  <tbody>\n",
       "    <tr>\n",
       "      <th>12</th>\n",
       "      <td>2010-11</td>\n",
       "      <td>AHMEDABAD</td>\n",
       "      <td>14.872204</td>\n",
       "      <td>28.348243</td>\n",
       "      <td>87.398089</td>\n",
       "      <td>147.638456</td>\n",
       "      <td>147.638456</td>\n",
       "      <td>113500</td>\n",
       "      <td>310300</td>\n",
       "      <td>2.733921</td>\n",
       "      <td>230400</td>\n",
       "      <td>547600</td>\n",
       "      <td>2.376736</td>\n",
       "    </tr>\n",
       "    <tr>\n",
       "      <th>13</th>\n",
       "      <td>2011-12</td>\n",
       "      <td>AHMEDABAD</td>\n",
       "      <td>13.386139</td>\n",
       "      <td>26.207921</td>\n",
       "      <td>92.752475</td>\n",
       "      <td>94.250606</td>\n",
       "      <td>94.250606</td>\n",
       "      <td>133100</td>\n",
       "      <td>365600</td>\n",
       "      <td>2.746807</td>\n",
       "      <td>189800</td>\n",
       "      <td>473900</td>\n",
       "      <td>2.496839</td>\n",
       "    </tr>\n",
       "  </tbody>\n",
       "</table>\n",
       "</div>"
      ],
      "text/plain": [
       "       date   district        so2        no2       rspm         spm  \\\n",
       "12  2010-11  AHMEDABAD  14.872204  28.348243  87.398089  147.638456   \n",
       "13  2011-12  AHMEDABAD  13.386139  26.207921  92.752475   94.250606   \n",
       "\n",
       "           aqi  rice_area  rice_production  rice_yield  wheat_area  \\\n",
       "12  147.638456     113500           310300    2.733921      230400   \n",
       "13   94.250606     133100           365600    2.746807      189800   \n",
       "\n",
       "    wheat_production  wheat_yield  \n",
       "12            547600     2.376736  \n",
       "13            473900     2.496839  "
      ]
     },
     "execution_count": 27,
     "metadata": {},
     "output_type": "execute_result"
    }
   ],
   "source": [
    "finalYieldsDF[finalYieldsDF['rspm'] < 95]"
   ]
  },
  {
   "cell_type": "markdown",
   "metadata": {},
   "source": [
    "**Remove Outliers**\n",
    "\n",
    "> As the above two records are clearly outliers, we can remove them."
   ]
  },
  {
   "cell_type": "code",
   "execution_count": 28,
   "metadata": {},
   "outputs": [],
   "source": [
    "finalYieldsDF = finalYieldsDF[finalYieldsDF['rspm'] >= 95]"
   ]
  },
  {
   "cell_type": "markdown",
   "metadata": {},
   "source": [
    "### SPM"
   ]
  },
  {
   "cell_type": "code",
   "execution_count": 29,
   "metadata": {},
   "outputs": [
    {
     "data": {
      "text/html": [
       "<div>\n",
       "<style scoped>\n",
       "    .dataframe tbody tr th:only-of-type {\n",
       "        vertical-align: middle;\n",
       "    }\n",
       "\n",
       "    .dataframe tbody tr th {\n",
       "        vertical-align: top;\n",
       "    }\n",
       "\n",
       "    .dataframe thead th {\n",
       "        text-align: right;\n",
       "    }\n",
       "</style>\n",
       "<table border=\"1\" class=\"dataframe\">\n",
       "  <thead>\n",
       "    <tr style=\"text-align: right;\">\n",
       "      <th></th>\n",
       "      <th>spm</th>\n",
       "    </tr>\n",
       "  </thead>\n",
       "  <tbody>\n",
       "    <tr>\n",
       "      <th>count</th>\n",
       "      <td>64.000000</td>\n",
       "    </tr>\n",
       "    <tr>\n",
       "      <th>mean</th>\n",
       "      <td>338.097523</td>\n",
       "    </tr>\n",
       "    <tr>\n",
       "      <th>std</th>\n",
       "      <td>86.863115</td>\n",
       "    </tr>\n",
       "    <tr>\n",
       "      <th>min</th>\n",
       "      <td>94.250606</td>\n",
       "    </tr>\n",
       "    <tr>\n",
       "      <th>25%</th>\n",
       "      <td>270.812500</td>\n",
       "    </tr>\n",
       "    <tr>\n",
       "      <th>50%</th>\n",
       "      <td>338.899587</td>\n",
       "    </tr>\n",
       "    <tr>\n",
       "      <th>75%</th>\n",
       "      <td>404.602000</td>\n",
       "    </tr>\n",
       "    <tr>\n",
       "      <th>max</th>\n",
       "      <td>485.471774</td>\n",
       "    </tr>\n",
       "    <tr>\n",
       "      <th>range</th>\n",
       "      <td>391.221168</td>\n",
       "    </tr>\n",
       "    <tr>\n",
       "      <th>iqr</th>\n",
       "      <td>133.789500</td>\n",
       "    </tr>\n",
       "    <tr>\n",
       "      <th>cov</th>\n",
       "      <td>0.256917</td>\n",
       "    </tr>\n",
       "    <tr>\n",
       "      <th>qcv</th>\n",
       "      <td>0.394776</td>\n",
       "    </tr>\n",
       "  </tbody>\n",
       "</table>\n",
       "</div>"
      ],
      "text/plain": [
       "              spm\n",
       "count   64.000000\n",
       "mean   338.097523\n",
       "std     86.863115\n",
       "min     94.250606\n",
       "25%    270.812500\n",
       "50%    338.899587\n",
       "75%    404.602000\n",
       "max    485.471774\n",
       "range  391.221168\n",
       "iqr    133.789500\n",
       "cov      0.256917\n",
       "qcv      0.394776"
      ]
     },
     "execution_count": 29,
     "metadata": {},
     "output_type": "execute_result"
    }
   ],
   "source": [
    "describe_numerical(combinedYieldsDF['spm'])"
   ]
  },
  {
   "cell_type": "code",
   "execution_count": 30,
   "metadata": {},
   "outputs": [
    {
     "data": {
      "image/png": "[encoded data removed]",
      "text/plain": [
       "<Figure size 1440x720 with 1 Axes>"
      ]
     },
     "metadata": {
      "needs_background": "light"
     },
     "output_type": "display_data"
    }
   ],
   "source": [
    "plt.figure(figsize=(20,10))\n",
    "patch = plt.boxplot(combinedYieldsDF['spm'], vert=False, patch_artist=True)\n",
    "style_boxplot(patch)\n",
    "plt.show()"
   ]
  },
  {
   "cell_type": "markdown",
   "metadata": {},
   "source": [
    "**Remove Outliers**\n",
    "\n",
    "> No outliers to be removed for `SPM`"
   ]
  },
  {
   "cell_type": "markdown",
   "metadata": {},
   "source": [
    "### AQI"
   ]
  },
  {
   "cell_type": "code",
   "execution_count": 31,
   "metadata": {},
   "outputs": [
    {
     "data": {
      "text/html": [
       "<div>\n",
       "<style scoped>\n",
       "    .dataframe tbody tr th:only-of-type {\n",
       "        vertical-align: middle;\n",
       "    }\n",
       "\n",
       "    .dataframe tbody tr th {\n",
       "        vertical-align: top;\n",
       "    }\n",
       "\n",
       "    .dataframe thead th {\n",
       "        text-align: right;\n",
       "    }\n",
       "</style>\n",
       "<table border=\"1\" class=\"dataframe\">\n",
       "  <thead>\n",
       "    <tr style=\"text-align: right;\">\n",
       "      <th></th>\n",
       "      <th>aqi</th>\n",
       "    </tr>\n",
       "  </thead>\n",
       "  <tbody>\n",
       "    <tr>\n",
       "      <th>count</th>\n",
       "      <td>64.000000</td>\n",
       "    </tr>\n",
       "    <tr>\n",
       "      <th>mean</th>\n",
       "      <td>338.097523</td>\n",
       "    </tr>\n",
       "    <tr>\n",
       "      <th>std</th>\n",
       "      <td>86.863115</td>\n",
       "    </tr>\n",
       "    <tr>\n",
       "      <th>min</th>\n",
       "      <td>94.250606</td>\n",
       "    </tr>\n",
       "    <tr>\n",
       "      <th>25%</th>\n",
       "      <td>270.812500</td>\n",
       "    </tr>\n",
       "    <tr>\n",
       "      <th>50%</th>\n",
       "      <td>338.899587</td>\n",
       "    </tr>\n",
       "    <tr>\n",
       "      <th>75%</th>\n",
       "      <td>404.602000</td>\n",
       "    </tr>\n",
       "    <tr>\n",
       "      <th>max</th>\n",
       "      <td>485.471774</td>\n",
       "    </tr>\n",
       "    <tr>\n",
       "      <th>range</th>\n",
       "      <td>391.221168</td>\n",
       "    </tr>\n",
       "    <tr>\n",
       "      <th>iqr</th>\n",
       "      <td>133.789500</td>\n",
       "    </tr>\n",
       "    <tr>\n",
       "      <th>cov</th>\n",
       "      <td>0.256917</td>\n",
       "    </tr>\n",
       "    <tr>\n",
       "      <th>qcv</th>\n",
       "      <td>0.394776</td>\n",
       "    </tr>\n",
       "  </tbody>\n",
       "</table>\n",
       "</div>"
      ],
      "text/plain": [
       "              aqi\n",
       "count   64.000000\n",
       "mean   338.097523\n",
       "std     86.863115\n",
       "min     94.250606\n",
       "25%    270.812500\n",
       "50%    338.899587\n",
       "75%    404.602000\n",
       "max    485.471774\n",
       "range  391.221168\n",
       "iqr    133.789500\n",
       "cov      0.256917\n",
       "qcv      0.394776"
      ]
     },
     "execution_count": 31,
     "metadata": {},
     "output_type": "execute_result"
    }
   ],
   "source": [
    "describe_numerical(combinedYieldsDF['aqi'])"
   ]
  },
  {
   "cell_type": "code",
   "execution_count": 32,
   "metadata": {},
   "outputs": [
    {
     "data": {
      "image/png": "[encoded data removed]",
      "text/plain": [
       "<Figure size 1440x720 with 1 Axes>"
      ]
     },
     "metadata": {
      "needs_background": "light"
     },
     "output_type": "display_data"
    }
   ],
   "source": [
    "plt.figure(figsize=(20,10))\n",
    "patch = plt.boxplot(combinedYieldsDF['aqi'], vert=False, patch_artist=True)\n",
    "style_boxplot(patch)\n",
    "plt.show()"
   ]
  },
  {
   "cell_type": "markdown",
   "metadata": {},
   "source": [
    "**Remove Outliers**\n",
    "\n",
    "> No outliers to be removed for `AQI`"
   ]
  },
  {
   "cell_type": "markdown",
   "metadata": {},
   "source": [
    "### Rice Area, Rice Production, Rice Yield, Wheat Area, Wheat Production & Wheat Yield\n",
    "\n",
    "**`Yield = Production/Area`** \n",
    "\n",
    "As `Yield` is the `Dependent Variable` and as Area & Production are not `Independent Variables`, there is no need for univariate EDA of the above features"
   ]
  },
  {
   "cell_type": "markdown",
   "metadata": {},
   "source": [
    "## Pairwise-Variable EDA\n",
    "\n",
    "While exploring pairwise EDA, we are trying to understand the mutual influence of variables within themselves.  In statistical parlance, this could be termed as *`influence of independent/predictor variable over dependent variable`*\n",
    "\n",
    "We can use **`Pairwise Plots`** to find the correlation between dependent and independent variables.\n",
    "\n",
    "For the bivariate combination of Numerical & Numerical (`so2, no2, rspm, spm, aqi & yield`) variables, we will use the **`Pearson's & Spearman's`** method to calculate the correlation coefficient.  \n",
    "- All the coefficients range from -1 to +1\n",
    "\n",
    "#### What is Correlation Coefficient?\n",
    " The correlation coefficient is a statistical measure of the strength of the relationship between the relative movements of two variables. The values range between -1.0 and 1.0. A correlation of -1.0 shows a perfect negative correlation, while a correlation of 1.0 shows a perfect positive correlation. A correlation of 0.0 shows no linear relationship between the movement of the two variables.\n",
    "\n",
    "Corr(X,Y) = Cov(X,Y) / σXσY\n",
    "\n",
    "|Correlation Coefficient for a Direct Relationship|Correlation Coefficient for a Indirect Relationship|Relationship Strength|\n",
    "|-|-|-|\n",
    "|0.0|0.0|**None/Trivial**|\n",
    "|0.1|-0.1|**Weak/Small**|\n",
    "|0.3|-0.3|**Moderate/Medium**|\n",
    "|0.5|-0.5|**Strong/Large**|\n",
    "|1.0|-1.0|**Perfect**|"
   ]
  },
  {
   "cell_type": "markdown",
   "metadata": {},
   "source": [
    "### SO2 vs Yield"
   ]
  },
  {
   "cell_type": "code",
   "execution_count": 33,
   "metadata": {},
   "outputs": [
    {
     "data": {
      "text/html": [
       "<div>\n",
       "<style scoped>\n",
       "    .dataframe tbody tr th:only-of-type {\n",
       "        vertical-align: middle;\n",
       "    }\n",
       "\n",
       "    .dataframe tbody tr th {\n",
       "        vertical-align: top;\n",
       "    }\n",
       "\n",
       "    .dataframe thead th {\n",
       "        text-align: right;\n",
       "    }\n",
       "</style>\n",
       "<table border=\"1\" class=\"dataframe\">\n",
       "  <thead>\n",
       "    <tr style=\"text-align: right;\">\n",
       "      <th></th>\n",
       "      <th>Correlation</th>\n",
       "    </tr>\n",
       "  </thead>\n",
       "  <tbody>\n",
       "    <tr>\n",
       "      <th>Pearson, 𝑟</th>\n",
       "      <td>-0.189921</td>\n",
       "    </tr>\n",
       "    <tr>\n",
       "      <th>Spearman, 𝜌</th>\n",
       "      <td>-0.171128</td>\n",
       "    </tr>\n",
       "  </tbody>\n",
       "</table>\n",
       "</div>"
      ],
      "text/plain": [
       "             Correlation\n",
       "Pearson, 𝑟     -0.189921\n",
       "Spearman, 𝜌    -0.171128"
      ]
     },
     "execution_count": 33,
     "metadata": {},
     "output_type": "execute_result"
    }
   ],
   "source": [
    "correlation(finalYieldsDF, 'so2', 'rice_yield')"
   ]
  },
  {
   "cell_type": "code",
   "execution_count": 34,
   "metadata": {
    "scrolled": true
   },
   "outputs": [
    {
     "data": {
      "image/png": "[encoded data removed]",
      "text/plain": [
       "<Figure size 1728x864 with 1 Axes>"
      ]
     },
     "metadata": {
      "needs_background": "light"
     },
     "output_type": "display_data"
    }
   ],
   "source": [
    "plt.figure(figsize=(24,12))\n",
    "plt.xlabel('\\nSO2', fontsize=20)\n",
    "plt.ylabel('Rice Yield\\n', fontsize=20)\n",
    "plt.scatter(finalYieldsDF['so2'],finalYieldsDF['rice_yield'],color='DimGray')\n",
    "m, b = np.polyfit(finalYieldsDF['so2'],finalYieldsDF['rice_yield'], 1)\n",
    "plt.plot(finalYieldsDF['so2'], m*finalYieldsDF['so2'] + b,color='Red')\n",
    "plt.title(\"SO2 vs Rice Yield\\n\", fontsize=24)\n",
    "plt.show()"
   ]
  },
  {
   "cell_type": "code",
   "execution_count": 35,
   "metadata": {
    "scrolled": true
   },
   "outputs": [
    {
     "data": {
      "text/html": [
       "<div>\n",
       "<style scoped>\n",
       "    .dataframe tbody tr th:only-of-type {\n",
       "        vertical-align: middle;\n",
       "    }\n",
       "\n",
       "    .dataframe tbody tr th {\n",
       "        vertical-align: top;\n",
       "    }\n",
       "\n",
       "    .dataframe thead th {\n",
       "        text-align: right;\n",
       "    }\n",
       "</style>\n",
       "<table border=\"1\" class=\"dataframe\">\n",
       "  <thead>\n",
       "    <tr style=\"text-align: right;\">\n",
       "      <th></th>\n",
       "      <th>Correlation</th>\n",
       "    </tr>\n",
       "  </thead>\n",
       "  <tbody>\n",
       "    <tr>\n",
       "      <th>Pearson, 𝑟</th>\n",
       "      <td>-0.087216</td>\n",
       "    </tr>\n",
       "    <tr>\n",
       "      <th>Spearman, 𝜌</th>\n",
       "      <td>-0.077031</td>\n",
       "    </tr>\n",
       "  </tbody>\n",
       "</table>\n",
       "</div>"
      ],
      "text/plain": [
       "             Correlation\n",
       "Pearson, 𝑟     -0.087216\n",
       "Spearman, 𝜌    -0.077031"
      ]
     },
     "execution_count": 35,
     "metadata": {},
     "output_type": "execute_result"
    }
   ],
   "source": [
    "correlation(finalYieldsDF, 'so2', 'wheat_yield')"
   ]
  },
  {
   "cell_type": "code",
   "execution_count": 36,
   "metadata": {},
   "outputs": [
    {
     "data": {
      "image/png": "[encoded data removed]",
      "text/plain": [
       "<Figure size 1728x864 with 1 Axes>"
      ]
     },
     "metadata": {
      "needs_background": "light"
     },
     "output_type": "display_data"
    }
   ],
   "source": [
    "plt.figure(figsize=(24,12))\n",
    "plt.xlabel('\\nSO2', fontsize=20)\n",
    "plt.ylabel('Wheat Yield\\n', fontsize=20)\n",
    "plt.scatter(finalYieldsDF['so2'],finalYieldsDF['wheat_yield'],color='DimGray')\n",
    "m, b = np.polyfit(finalYieldsDF['so2'],finalYieldsDF['wheat_yield'], 1)\n",
    "plt.plot(finalYieldsDF['so2'], m*finalYieldsDF['so2'] + b,color='Red')\n",
    "plt.title(\"SO2 vs Wheat Yield\\n\", fontsize=24)\n",
    "plt.show()"
   ]
  },
  {
   "cell_type": "markdown",
   "metadata": {},
   "source": [
    "**`SO2 vs Yield`** is **Moderately (-ve)** Correlated for **Rice** & **Weakly (-ve)** Correlated for **Wheat**"
   ]
  },
  {
   "cell_type": "markdown",
   "metadata": {},
   "source": [
    "### NO2 vs Yield"
   ]
  },
  {
   "cell_type": "code",
   "execution_count": 37,
   "metadata": {
    "scrolled": true
   },
   "outputs": [
    {
     "data": {
      "text/html": [
       "<div>\n",
       "<style scoped>\n",
       "    .dataframe tbody tr th:only-of-type {\n",
       "        vertical-align: middle;\n",
       "    }\n",
       "\n",
       "    .dataframe tbody tr th {\n",
       "        vertical-align: top;\n",
       "    }\n",
       "\n",
       "    .dataframe thead th {\n",
       "        text-align: right;\n",
       "    }\n",
       "</style>\n",
       "<table border=\"1\" class=\"dataframe\">\n",
       "  <thead>\n",
       "    <tr style=\"text-align: right;\">\n",
       "      <th></th>\n",
       "      <th>Correlation</th>\n",
       "    </tr>\n",
       "  </thead>\n",
       "  <tbody>\n",
       "    <tr>\n",
       "      <th>Pearson, 𝑟</th>\n",
       "      <td>0.100672</td>\n",
       "    </tr>\n",
       "    <tr>\n",
       "      <th>Spearman, 𝜌</th>\n",
       "      <td>0.021859</td>\n",
       "    </tr>\n",
       "  </tbody>\n",
       "</table>\n",
       "</div>"
      ],
      "text/plain": [
       "             Correlation\n",
       "Pearson, 𝑟      0.100672\n",
       "Spearman, 𝜌     0.021859"
      ]
     },
     "execution_count": 37,
     "metadata": {},
     "output_type": "execute_result"
    }
   ],
   "source": [
    "correlation(finalYieldsDF, 'no2', 'rice_yield')"
   ]
  },
  {
   "cell_type": "code",
   "execution_count": 38,
   "metadata": {
    "scrolled": true
   },
   "outputs": [
    {
     "data": {
      "image/png": "[encoded data removed]",
      "text/plain": [
       "<Figure size 1728x864 with 1 Axes>"
      ]
     },
     "metadata": {
      "needs_background": "light"
     },
     "output_type": "display_data"
    }
   ],
   "source": [
    "plt.figure(figsize=(24,12))\n",
    "plt.xlabel('\\nNO2', fontsize=20)\n",
    "plt.ylabel('Rice Yield\\n', fontsize=20)\n",
    "plt.scatter(finalYieldsDF['no2'],finalYieldsDF['rice_yield'],color='DimGray')\n",
    "m, b = np.polyfit(finalYieldsDF['no2'],finalYieldsDF['rice_yield'], 1)\n",
    "plt.plot(finalYieldsDF['no2'], m*finalYieldsDF['no2'] + b,color='Red')\n",
    "plt.title(\"NO2 vs Rice Yield\\n\", fontsize=24)\n",
    "plt.show()"
   ]
  },
  {
   "cell_type": "code",
   "execution_count": 39,
   "metadata": {
    "scrolled": true
   },
   "outputs": [
    {
     "data": {
      "text/html": [
       "<div>\n",
       "<style scoped>\n",
       "    .dataframe tbody tr th:only-of-type {\n",
       "        vertical-align: middle;\n",
       "    }\n",
       "\n",
       "    .dataframe tbody tr th {\n",
       "        vertical-align: top;\n",
       "    }\n",
       "\n",
       "    .dataframe thead th {\n",
       "        text-align: right;\n",
       "    }\n",
       "</style>\n",
       "<table border=\"1\" class=\"dataframe\">\n",
       "  <thead>\n",
       "    <tr style=\"text-align: right;\">\n",
       "      <th></th>\n",
       "      <th>Correlation</th>\n",
       "    </tr>\n",
       "  </thead>\n",
       "  <tbody>\n",
       "    <tr>\n",
       "      <th>Pearson, 𝑟</th>\n",
       "      <td>0.289707</td>\n",
       "    </tr>\n",
       "    <tr>\n",
       "      <th>Spearman, 𝜌</th>\n",
       "      <td>0.193805</td>\n",
       "    </tr>\n",
       "  </tbody>\n",
       "</table>\n",
       "</div>"
      ],
      "text/plain": [
       "             Correlation\n",
       "Pearson, 𝑟      0.289707\n",
       "Spearman, 𝜌     0.193805"
      ]
     },
     "execution_count": 39,
     "metadata": {},
     "output_type": "execute_result"
    }
   ],
   "source": [
    "correlation(finalYieldsDF, 'no2', 'wheat_yield')"
   ]
  },
  {
   "cell_type": "code",
   "execution_count": 40,
   "metadata": {},
   "outputs": [
    {
     "data": {
      "image/png": "[encoded data removed]",
      "text/plain": [
       "<Figure size 1728x864 with 1 Axes>"
      ]
     },
     "metadata": {
      "needs_background": "light"
     },
     "output_type": "display_data"
    }
   ],
   "source": [
    "plt.figure(figsize=(24,12))\n",
    "plt.xlabel('\\nNO2', fontsize=20)\n",
    "plt.ylabel('Wheat Yield\\n', fontsize=20)\n",
    "plt.scatter(finalYieldsDF['no2'],finalYieldsDF['wheat_yield'],color='DimGray')\n",
    "m, b = np.polyfit(finalYieldsDF['no2'],finalYieldsDF['wheat_yield'], 1)\n",
    "plt.plot(finalYieldsDF['no2'], m*finalYieldsDF['no2'] + b,color='Red')\n",
    "plt.title(\"NO2 vs Wheat Yield\\n\", fontsize=24)\n",
    "plt.show()"
   ]
  },
  {
   "cell_type": "markdown",
   "metadata": {},
   "source": [
    "**`NO2 vs Yield`** is **Weakly (+ve)** Correlated for **Rice** & **Moderately (+ve)** Correlated for **Wheat**"
   ]
  },
  {
   "cell_type": "markdown",
   "metadata": {},
   "source": [
    "### RSPM vs Yield"
   ]
  },
  {
   "cell_type": "code",
   "execution_count": 41,
   "metadata": {
    "scrolled": false
   },
   "outputs": [
    {
     "data": {
      "text/html": [
       "<div>\n",
       "<style scoped>\n",
       "    .dataframe tbody tr th:only-of-type {\n",
       "        vertical-align: middle;\n",
       "    }\n",
       "\n",
       "    .dataframe tbody tr th {\n",
       "        vertical-align: top;\n",
       "    }\n",
       "\n",
       "    .dataframe thead th {\n",
       "        text-align: right;\n",
       "    }\n",
       "</style>\n",
       "<table border=\"1\" class=\"dataframe\">\n",
       "  <thead>\n",
       "    <tr style=\"text-align: right;\">\n",
       "      <th></th>\n",
       "      <th>Correlation</th>\n",
       "    </tr>\n",
       "  </thead>\n",
       "  <tbody>\n",
       "    <tr>\n",
       "      <th>Pearson, 𝑟</th>\n",
       "      <td>0.078250</td>\n",
       "    </tr>\n",
       "    <tr>\n",
       "      <th>Spearman, 𝜌</th>\n",
       "      <td>-0.129246</td>\n",
       "    </tr>\n",
       "  </tbody>\n",
       "</table>\n",
       "</div>"
      ],
      "text/plain": [
       "             Correlation\n",
       "Pearson, 𝑟      0.078250\n",
       "Spearman, 𝜌    -0.129246"
      ]
     },
     "execution_count": 41,
     "metadata": {},
     "output_type": "execute_result"
    }
   ],
   "source": [
    "correlation(finalYieldsDF, 'rspm', 'rice_yield')"
   ]
  },
  {
   "cell_type": "code",
   "execution_count": 42,
   "metadata": {
    "scrolled": true
   },
   "outputs": [
    {
     "data": {
      "image/png": "[encoded data removed]",
      "text/plain": [
       "<Figure size 1728x864 with 1 Axes>"
      ]
     },
     "metadata": {
      "needs_background": "light"
     },
     "output_type": "display_data"
    }
   ],
   "source": [
    "plt.figure(figsize=(24,12))\n",
    "plt.xlabel('\\nRSPM', fontsize=20)\n",
    "plt.ylabel('Rice Yield\\n', fontsize=20)\n",
    "plt.scatter(finalYieldsDF['rspm'],finalYieldsDF['rice_yield'],color='DimGray')\n",
    "m, b = np.polyfit(finalYieldsDF['rspm'],finalYieldsDF['rice_yield'], 1)\n",
    "plt.plot(finalYieldsDF['rspm'], m*finalYieldsDF['rspm'] + b,color='Red')\n",
    "plt.title(\"RSPM vs Rice Yield\\n\", fontsize=24)\n",
    "plt.show()"
   ]
  },
  {
   "cell_type": "code",
   "execution_count": 43,
   "metadata": {
    "scrolled": false
   },
   "outputs": [
    {
     "data": {
      "text/html": [
       "<div>\n",
       "<style scoped>\n",
       "    .dataframe tbody tr th:only-of-type {\n",
       "        vertical-align: middle;\n",
       "    }\n",
       "\n",
       "    .dataframe tbody tr th {\n",
       "        vertical-align: top;\n",
       "    }\n",
       "\n",
       "    .dataframe thead th {\n",
       "        text-align: right;\n",
       "    }\n",
       "</style>\n",
       "<table border=\"1\" class=\"dataframe\">\n",
       "  <thead>\n",
       "    <tr style=\"text-align: right;\">\n",
       "      <th></th>\n",
       "      <th>Correlation</th>\n",
       "    </tr>\n",
       "  </thead>\n",
       "  <tbody>\n",
       "    <tr>\n",
       "      <th>Pearson, 𝑟</th>\n",
       "      <td>0.384319</td>\n",
       "    </tr>\n",
       "    <tr>\n",
       "      <th>Spearman, 𝜌</th>\n",
       "      <td>0.196735</td>\n",
       "    </tr>\n",
       "  </tbody>\n",
       "</table>\n",
       "</div>"
      ],
      "text/plain": [
       "             Correlation\n",
       "Pearson, 𝑟      0.384319\n",
       "Spearman, 𝜌     0.196735"
      ]
     },
     "execution_count": 43,
     "metadata": {},
     "output_type": "execute_result"
    }
   ],
   "source": [
    "correlation(finalYieldsDF, 'rspm', 'wheat_yield')"
   ]
  },
  {
   "cell_type": "code",
   "execution_count": 44,
   "metadata": {
    "scrolled": true
   },
   "outputs": [
    {
     "data": {
      "image/png": "[encoded data removed]",
      "text/plain": [
       "<Figure size 1728x864 with 1 Axes>"
      ]
     },
     "metadata": {
      "needs_background": "light"
     },
     "output_type": "display_data"
    }
   ],
   "source": [
    "plt.figure(figsize=(24,12))\n",
    "plt.xlabel('\\nRSPM', fontsize=20)\n",
    "plt.ylabel('Wheat Yield\\n', fontsize=20)\n",
    "plt.scatter(finalYieldsDF['rspm'],finalYieldsDF['wheat_yield'],color='DimGray')\n",
    "m, b = np.polyfit(finalYieldsDF['rspm'],finalYieldsDF['wheat_yield'], 1)\n",
    "plt.plot(finalYieldsDF['rspm'], m*finalYieldsDF['rspm'] + b,color='Red')\n",
    "plt.title(\"RSPM vs Wheat Yield\\n\", fontsize=24)\n",
    "plt.show()"
   ]
  },
  {
   "cell_type": "markdown",
   "metadata": {},
   "source": [
    "**`RSPM vs Yield`** is **Weakly (+ve)** Correlated for **Rice** & **Strongly (+ve)** Correlated for **Wheat**"
   ]
  },
  {
   "cell_type": "markdown",
   "metadata": {},
   "source": [
    "### SPM vs Yield"
   ]
  },
  {
   "cell_type": "code",
   "execution_count": 45,
   "metadata": {
    "scrolled": false
   },
   "outputs": [
    {
     "data": {
      "text/html": [
       "<div>\n",
       "<style scoped>\n",
       "    .dataframe tbody tr th:only-of-type {\n",
       "        vertical-align: middle;\n",
       "    }\n",
       "\n",
       "    .dataframe tbody tr th {\n",
       "        vertical-align: top;\n",
       "    }\n",
       "\n",
       "    .dataframe thead th {\n",
       "        text-align: right;\n",
       "    }\n",
       "</style>\n",
       "<table border=\"1\" class=\"dataframe\">\n",
       "  <thead>\n",
       "    <tr style=\"text-align: right;\">\n",
       "      <th></th>\n",
       "      <th>Correlation</th>\n",
       "    </tr>\n",
       "  </thead>\n",
       "  <tbody>\n",
       "    <tr>\n",
       "      <th>Pearson, 𝑟</th>\n",
       "      <td>0.209234</td>\n",
       "    </tr>\n",
       "    <tr>\n",
       "      <th>Spearman, 𝜌</th>\n",
       "      <td>0.229720</td>\n",
       "    </tr>\n",
       "  </tbody>\n",
       "</table>\n",
       "</div>"
      ],
      "text/plain": [
       "             Correlation\n",
       "Pearson, 𝑟      0.209234\n",
       "Spearman, 𝜌     0.229720"
      ]
     },
     "execution_count": 45,
     "metadata": {},
     "output_type": "execute_result"
    }
   ],
   "source": [
    "correlation(finalYieldsDF, 'spm', 'rice_yield')"
   ]
  },
  {
   "cell_type": "code",
   "execution_count": 46,
   "metadata": {
    "scrolled": true
   },
   "outputs": [
    {
     "data": {
      "image/png": "[encoded data removed]",
      "text/plain": [
       "<Figure size 1728x864 with 1 Axes>"
      ]
     },
     "metadata": {
      "needs_background": "light"
     },
     "output_type": "display_data"
    }
   ],
   "source": [
    "plt.figure(figsize=(24,12))\n",
    "plt.xlabel('\\nSPM', fontsize=20)\n",
    "plt.ylabel('Rice Yield\\n', fontsize=20)\n",
    "plt.scatter(finalYieldsDF['spm'],finalYieldsDF['rice_yield'],color='DimGray')\n",
    "m, b = np.polyfit(finalYieldsDF['spm'],finalYieldsDF['rice_yield'], 1)\n",
    "plt.plot(finalYieldsDF['spm'], m*finalYieldsDF['spm'] + b,color='Red')\n",
    "plt.title(\"SPM vs Rice Yield\\n\", fontsize=24)\n",
    "plt.show()"
   ]
  },
  {
   "cell_type": "code",
   "execution_count": 47,
   "metadata": {
    "scrolled": true
   },
   "outputs": [
    {
     "data": {
      "text/html": [
       "<div>\n",
       "<style scoped>\n",
       "    .dataframe tbody tr th:only-of-type {\n",
       "        vertical-align: middle;\n",
       "    }\n",
       "\n",
       "    .dataframe tbody tr th {\n",
       "        vertical-align: top;\n",
       "    }\n",
       "\n",
       "    .dataframe thead th {\n",
       "        text-align: right;\n",
       "    }\n",
       "</style>\n",
       "<table border=\"1\" class=\"dataframe\">\n",
       "  <thead>\n",
       "    <tr style=\"text-align: right;\">\n",
       "      <th></th>\n",
       "      <th>Correlation</th>\n",
       "    </tr>\n",
       "  </thead>\n",
       "  <tbody>\n",
       "    <tr>\n",
       "      <th>Pearson, 𝑟</th>\n",
       "      <td>0.362878</td>\n",
       "    </tr>\n",
       "    <tr>\n",
       "      <th>Spearman, 𝜌</th>\n",
       "      <td>0.382808</td>\n",
       "    </tr>\n",
       "  </tbody>\n",
       "</table>\n",
       "</div>"
      ],
      "text/plain": [
       "             Correlation\n",
       "Pearson, 𝑟      0.362878\n",
       "Spearman, 𝜌     0.382808"
      ]
     },
     "execution_count": 47,
     "metadata": {},
     "output_type": "execute_result"
    }
   ],
   "source": [
    "correlation(finalYieldsDF, 'spm', 'wheat_yield')"
   ]
  },
  {
   "cell_type": "code",
   "execution_count": 48,
   "metadata": {
    "scrolled": true
   },
   "outputs": [
    {
     "data": {
      "image/png": "[encoded data removed]",
      "text/plain": [
       "<Figure size 1728x864 with 1 Axes>"
      ]
     },
     "metadata": {
      "needs_background": "light"
     },
     "output_type": "display_data"
    }
   ],
   "source": [
    "plt.figure(figsize=(24,12))\n",
    "plt.xlabel('\\nSPM', fontsize=20)\n",
    "plt.ylabel('Wheat Yield\\n', fontsize=20)\n",
    "plt.scatter(finalYieldsDF['spm'],finalYieldsDF['wheat_yield'],color='DimGray')\n",
    "m, b = np.polyfit(finalYieldsDF['spm'],finalYieldsDF['wheat_yield'], 1)\n",
    "plt.plot(finalYieldsDF['spm'], m*finalYieldsDF['spm'] + b,color='Red')\n",
    "plt.title(\"SPM vs Wheat Yield\\n\", fontsize=24)\n",
    "plt.show()"
   ]
  },
  {
   "cell_type": "markdown",
   "metadata": {},
   "source": [
    "**SPM vs Yield`** is **Moderately (+ve)** Correlated for **Rice** & **Strongly (+ve)** Correlated for **Wheat**"
   ]
  },
  {
   "cell_type": "markdown",
   "metadata": {},
   "source": [
    "### Pairwise Variable EDA Summary\n",
    "\n",
    "> As all the independent variables maintain Weak to Moderate correlation with the dependent variables.  As we have very few features (only 4), let us consider all the independent variables for model building.  In case when we have more features, we can drop those independent variables that are weakly correlated.  "
   ]
  },
  {
   "cell_type": "markdown",
   "metadata": {},
   "source": [
    "## Model Building\n",
    "\n"
   ]
  },
  {
   "cell_type": "markdown",
   "metadata": {},
   "source": [
    "## Candidate Models"
   ]
  },
  {
   "cell_type": "markdown",
   "metadata": {},
   "source": [
    "### Candidate Model - XGBoost\n",
    "\n",
    "Gradient boosting is a machine learning technique for regression and classification problems, which produces a prediction model in the form of an ensemble of weak prediction models, typically decision trees. It builds the model in a stage-wise fashion like other boosting methods do, and it generalizes them by allowing optimization of an arbitrary differentiable loss function.\n",
    "\n",
    "- XGBoost is one of the implementations of Gradient Boosting concept, but what makes XGBoost unique is that it uses a more regularized model formalization to control over-fitting, which gives it better performance."
   ]
  },
  {
   "cell_type": "markdown",
   "metadata": {},
   "source": [
    "#### XGB Parameters\n",
    "\n",
    "| Parameter | Description | Range |\n",
    "| - | - | - |\n",
    "| **nthread**| Number of parallel threads used to run XGBoost. When choosing it, please keep thread contention and hyperthreading in mind. | |\n",
    "| **objective** | Learning task parameter. There are many, default is reg:squaredlogerror| |\n",
    "| **learning_rate** | Step size shrinkage used in update to prevents overfitting. After each boosting step, we can directly get the weights of new features,<br /> and learning_rate shrinks the feature weights to make the boosting process more conservative. | [0,1] |\n",
    "| **max_depth** | Maximum depth of a tree. Increasing this value will make the model more complex and more likely to overfit. 0 is only accepted in<br /> lossguided growing policy when tree_method is set as hist and it indicates no limit on depth. Beware that XGBoost aggressively<br /> consumes memory when training a deep tree. |  [0,∞] |\n",
    "| **min_child_weight** | Minimum sum of instance weight (hessian) needed in a child. If the tree partition step results in a leaf node with the sum of instance weight<br /> less than min_child_weight, then the building process will give up further partitioning. In linear regression task, this simply corresponds to<br /> minimum number of instances needed to be in each node. The larger min_child_weight is, the more conservative the algorithm will be. | [0,∞] |\n",
    "| **silent** | Verbosity 0 (silent), 1 (warning), 2 (info), 3 (debug) | [0,3] |\n",
    "| **subsample** | Subsample ratio of the training instances. Setting it to 0.5 means that XGBoost would randomly sample half of the training data prior to<br /> growing trees. and this will prevent overfitting. Subsampling will occur once in every boosting iteration. | (0,1] |\n",
    "| **colsample_bytree** | Subsample ratio of columns when constructing each tree. Subsampling occurs once for every tree constructed. | (0, 1] |\n",
    "| **n_estimators** | Number of estimators | [0,∞] |\n",
    "\n",
    "#### Grid-Search\n",
    "\n",
    "A model hyperparameter is a characteristic of a model that is external to the model and whose value cannot be estimated from data. The value of the hyperparameter has to be set before the learning process begins.  `Grid-search is used to find the optimal hyperparameters of a model which results in the most ‘accurate’ predictions.`  Grid search builds a model for every combination of hyperparameters specified and evaluates each model.\n",
    "\n",
    "| Parameter | Description |\n",
    "| - | - |\n",
    "| **estimator** | This is assumed to implement the scikit-learn estimator interface. Either estimator needs to provide a score function, or scoring must be passed. |\n",
    "| **param_grid** | Parameter of the model pass as a dictionary | \n",
    "| **cv** | Determines the cross-validation splitting strategy | \n",
    "| **scoring** | A single str (see The scoring parameter: defining model evaluation rules) or a callable (see Defining your scoring strategy from metric functions) to evaluate the predictions on the test set. |\n",
    "| **refit** | Refit an estimator using the best found parameters on the whole dataset. |\n",
    "| **n_jobs** | Number of jobs to run in parallel. None means 1 unless in a joblib.parallel_backend context. -1 means using all processors. |\n",
    "| **verbose** | Controls the verbosity: the higher, the more messages. |\n"
   ]
  },
  {
   "cell_type": "raw",
   "metadata": {},
   "source": [
    "!pip install xgboost"
   ]
  },
  {
   "cell_type": "code",
   "execution_count": 55,
   "metadata": {
    "scrolled": true
   },
   "outputs": [
    {
     "data": {
      "text/html": [
       "<div>\n",
       "<style scoped>\n",
       "    .dataframe tbody tr th:only-of-type {\n",
       "        vertical-align: middle;\n",
       "    }\n",
       "\n",
       "    .dataframe tbody tr th {\n",
       "        vertical-align: top;\n",
       "    }\n",
       "\n",
       "    .dataframe thead th {\n",
       "        text-align: right;\n",
       "    }\n",
       "</style>\n",
       "<table border=\"1\" class=\"dataframe\">\n",
       "  <thead>\n",
       "    <tr style=\"text-align: right;\">\n",
       "      <th></th>\n",
       "      <th>date</th>\n",
       "      <th>district</th>\n",
       "      <th>so2</th>\n",
       "      <th>no2</th>\n",
       "      <th>rspm</th>\n",
       "      <th>spm</th>\n",
       "      <th>aqi</th>\n",
       "      <th>rice_area</th>\n",
       "      <th>rice_production</th>\n",
       "      <th>rice_yield</th>\n",
       "      <th>wheat_area</th>\n",
       "      <th>wheat_production</th>\n",
       "      <th>wheat_yield</th>\n",
       "    </tr>\n",
       "  </thead>\n",
       "  <tbody>\n",
       "    <tr>\n",
       "      <th>0</th>\n",
       "      <td>1998-99</td>\n",
       "      <td>AHMEDABAD</td>\n",
       "      <td>7.850000</td>\n",
       "      <td>17.208333</td>\n",
       "      <td>104.200455</td>\n",
       "      <td>235.000000</td>\n",
       "      <td>235.000000</td>\n",
       "      <td>52200</td>\n",
       "      <td>72600</td>\n",
       "      <td>1.390805</td>\n",
       "      <td>91600</td>\n",
       "      <td>138900</td>\n",
       "      <td>1.516376</td>\n",
       "    </tr>\n",
       "    <tr>\n",
       "      <th>1</th>\n",
       "      <td>1999-00</td>\n",
       "      <td>AHMEDABAD</td>\n",
       "      <td>6.925000</td>\n",
       "      <td>16.608333</td>\n",
       "      <td>104.200455</td>\n",
       "      <td>300.000000</td>\n",
       "      <td>300.000000</td>\n",
       "      <td>75100</td>\n",
       "      <td>78900</td>\n",
       "      <td>1.050599</td>\n",
       "      <td>84000</td>\n",
       "      <td>114800</td>\n",
       "      <td>1.366667</td>\n",
       "    </tr>\n",
       "    <tr>\n",
       "      <th>2</th>\n",
       "      <td>2000-01</td>\n",
       "      <td>AHMEDABAD</td>\n",
       "      <td>10.175000</td>\n",
       "      <td>32.300000</td>\n",
       "      <td>104.200455</td>\n",
       "      <td>335.750000</td>\n",
       "      <td>335.750000</td>\n",
       "      <td>84100</td>\n",
       "      <td>37500</td>\n",
       "      <td>0.445898</td>\n",
       "      <td>48700</td>\n",
       "      <td>78500</td>\n",
       "      <td>1.611910</td>\n",
       "    </tr>\n",
       "    <tr>\n",
       "      <th>3</th>\n",
       "      <td>2001-02</td>\n",
       "      <td>AHMEDABAD</td>\n",
       "      <td>13.466667</td>\n",
       "      <td>33.408333</td>\n",
       "      <td>104.200455</td>\n",
       "      <td>261.750000</td>\n",
       "      <td>261.750000</td>\n",
       "      <td>82000</td>\n",
       "      <td>144300</td>\n",
       "      <td>1.759756</td>\n",
       "      <td>81000</td>\n",
       "      <td>103500</td>\n",
       "      <td>1.277778</td>\n",
       "    </tr>\n",
       "    <tr>\n",
       "      <th>4</th>\n",
       "      <td>2002-03</td>\n",
       "      <td>AHMEDABAD</td>\n",
       "      <td>16.187982</td>\n",
       "      <td>28.496361</td>\n",
       "      <td>104.200455</td>\n",
       "      <td>233.611749</td>\n",
       "      <td>233.611749</td>\n",
       "      <td>47500</td>\n",
       "      <td>39300</td>\n",
       "      <td>0.827368</td>\n",
       "      <td>79500</td>\n",
       "      <td>107400</td>\n",
       "      <td>1.350943</td>\n",
       "    </tr>\n",
       "  </tbody>\n",
       "</table>\n",
       "</div>"
      ],
      "text/plain": [
       "      date   district        so2        no2        rspm         spm  \\\n",
       "0  1998-99  AHMEDABAD   7.850000  17.208333  104.200455  235.000000   \n",
       "1  1999-00  AHMEDABAD   6.925000  16.608333  104.200455  300.000000   \n",
       "2  2000-01  AHMEDABAD  10.175000  32.300000  104.200455  335.750000   \n",
       "3  2001-02  AHMEDABAD  13.466667  33.408333  104.200455  261.750000   \n",
       "4  2002-03  AHMEDABAD  16.187982  28.496361  104.200455  233.611749   \n",
       "\n",
       "          aqi  rice_area  rice_production  rice_yield  wheat_area  \\\n",
       "0  235.000000      52200            72600    1.390805       91600   \n",
       "1  300.000000      75100            78900    1.050599       84000   \n",
       "2  335.750000      84100            37500    0.445898       48700   \n",
       "3  261.750000      82000           144300    1.759756       81000   \n",
       "4  233.611749      47500            39300    0.827368       79500   \n",
       "\n",
       "   wheat_production  wheat_yield  \n",
       "0            138900     1.516376  \n",
       "1            114800     1.366667  \n",
       "2             78500     1.611910  \n",
       "3            103500     1.277778  \n",
       "4            107400     1.350943  "
      ]
     },
     "execution_count": 55,
     "metadata": {},
     "output_type": "execute_result"
    }
   ],
   "source": [
    "finalYieldsDF.head()"
   ]
  },
  {
   "cell_type": "markdown",
   "metadata": {},
   "source": [
    "**Drop unwanted columns**"
   ]
  },
  {
   "cell_type": "code",
   "execution_count": 86,
   "metadata": {},
   "outputs": [],
   "source": [
    "xgboostRiceYieldsDF = finalYieldsDF.drop(['date','aqi','rice_area','rice_production','wheat_area','wheat_production','wheat_yield'], axis='columns')\n",
    "xgboostWheatYieldsDF = finalYieldsDF.drop(['date','aqi','rice_area','rice_production','rice_yield','wheat_area','wheat_production'], axis='columns')\n",
    "xgboostRiceYieldsDF = pd.get_dummies(xgboostRiceYieldsDF, columns=['district'])\n",
    "xgboostWheatYieldsDF = pd.get_dummies(xgboostWheatYieldsDF, columns=['district'])"
   ]
  },
  {
   "cell_type": "code",
   "execution_count": 87,
   "metadata": {},
   "outputs": [
    {
     "data": {
      "text/html": [
       "<div>\n",
       "<style scoped>\n",
       "    .dataframe tbody tr th:only-of-type {\n",
       "        vertical-align: middle;\n",
       "    }\n",
       "\n",
       "    .dataframe tbody tr th {\n",
       "        vertical-align: top;\n",
       "    }\n",
       "\n",
       "    .dataframe thead th {\n",
       "        text-align: right;\n",
       "    }\n",
       "</style>\n",
       "<table border=\"1\" class=\"dataframe\">\n",
       "  <thead>\n",
       "    <tr style=\"text-align: right;\">\n",
       "      <th></th>\n",
       "      <th>so2</th>\n",
       "      <th>no2</th>\n",
       "      <th>rspm</th>\n",
       "      <th>spm</th>\n",
       "      <th>rice_yield</th>\n",
       "      <th>district_AHMEDABAD</th>\n",
       "      <th>district_DELHI</th>\n",
       "      <th>district_FARIDABAD</th>\n",
       "      <th>district_KANPUR</th>\n",
       "      <th>district_LUCKNOW</th>\n",
       "    </tr>\n",
       "  </thead>\n",
       "  <tbody>\n",
       "    <tr>\n",
       "      <th>0</th>\n",
       "      <td>7.850000</td>\n",
       "      <td>17.208333</td>\n",
       "      <td>104.200455</td>\n",
       "      <td>235.000000</td>\n",
       "      <td>1.390805</td>\n",
       "      <td>1</td>\n",
       "      <td>0</td>\n",
       "      <td>0</td>\n",
       "      <td>0</td>\n",
       "      <td>0</td>\n",
       "    </tr>\n",
       "    <tr>\n",
       "      <th>1</th>\n",
       "      <td>6.925000</td>\n",
       "      <td>16.608333</td>\n",
       "      <td>104.200455</td>\n",
       "      <td>300.000000</td>\n",
       "      <td>1.050599</td>\n",
       "      <td>1</td>\n",
       "      <td>0</td>\n",
       "      <td>0</td>\n",
       "      <td>0</td>\n",
       "      <td>0</td>\n",
       "    </tr>\n",
       "    <tr>\n",
       "      <th>2</th>\n",
       "      <td>10.175000</td>\n",
       "      <td>32.300000</td>\n",
       "      <td>104.200455</td>\n",
       "      <td>335.750000</td>\n",
       "      <td>0.445898</td>\n",
       "      <td>1</td>\n",
       "      <td>0</td>\n",
       "      <td>0</td>\n",
       "      <td>0</td>\n",
       "      <td>0</td>\n",
       "    </tr>\n",
       "    <tr>\n",
       "      <th>3</th>\n",
       "      <td>13.466667</td>\n",
       "      <td>33.408333</td>\n",
       "      <td>104.200455</td>\n",
       "      <td>261.750000</td>\n",
       "      <td>1.759756</td>\n",
       "      <td>1</td>\n",
       "      <td>0</td>\n",
       "      <td>0</td>\n",
       "      <td>0</td>\n",
       "      <td>0</td>\n",
       "    </tr>\n",
       "    <tr>\n",
       "      <th>4</th>\n",
       "      <td>16.187982</td>\n",
       "      <td>28.496361</td>\n",
       "      <td>104.200455</td>\n",
       "      <td>233.611749</td>\n",
       "      <td>0.827368</td>\n",
       "      <td>1</td>\n",
       "      <td>0</td>\n",
       "      <td>0</td>\n",
       "      <td>0</td>\n",
       "      <td>0</td>\n",
       "    </tr>\n",
       "  </tbody>\n",
       "</table>\n",
       "</div>"
      ],
      "text/plain": [
       "         so2        no2        rspm         spm  rice_yield  \\\n",
       "0   7.850000  17.208333  104.200455  235.000000    1.390805   \n",
       "1   6.925000  16.608333  104.200455  300.000000    1.050599   \n",
       "2  10.175000  32.300000  104.200455  335.750000    0.445898   \n",
       "3  13.466667  33.408333  104.200455  261.750000    1.759756   \n",
       "4  16.187982  28.496361  104.200455  233.611749    0.827368   \n",
       "\n",
       "   district_AHMEDABAD  district_DELHI  district_FARIDABAD  district_KANPUR  \\\n",
       "0                   1               0                   0                0   \n",
       "1                   1               0                   0                0   \n",
       "2                   1               0                   0                0   \n",
       "3                   1               0                   0                0   \n",
       "4                   1               0                   0                0   \n",
       "\n",
       "   district_LUCKNOW  \n",
       "0                 0  \n",
       "1                 0  \n",
       "2                 0  \n",
       "3                 0  \n",
       "4                 0  "
      ]
     },
     "execution_count": 87,
     "metadata": {},
     "output_type": "execute_result"
    }
   ],
   "source": [
    "xgboostRiceYieldsDF.head()"
   ]
  },
  {
   "cell_type": "code",
   "execution_count": 88,
   "metadata": {},
   "outputs": [
    {
     "data": {
      "text/html": [
       "<div>\n",
       "<style scoped>\n",
       "    .dataframe tbody tr th:only-of-type {\n",
       "        vertical-align: middle;\n",
       "    }\n",
       "\n",
       "    .dataframe tbody tr th {\n",
       "        vertical-align: top;\n",
       "    }\n",
       "\n",
       "    .dataframe thead th {\n",
       "        text-align: right;\n",
       "    }\n",
       "</style>\n",
       "<table border=\"1\" class=\"dataframe\">\n",
       "  <thead>\n",
       "    <tr style=\"text-align: right;\">\n",
       "      <th></th>\n",
       "      <th>so2</th>\n",
       "      <th>no2</th>\n",
       "      <th>rspm</th>\n",
       "      <th>spm</th>\n",
       "      <th>wheat_yield</th>\n",
       "      <th>district_AHMEDABAD</th>\n",
       "      <th>district_DELHI</th>\n",
       "      <th>district_FARIDABAD</th>\n",
       "      <th>district_KANPUR</th>\n",
       "      <th>district_LUCKNOW</th>\n",
       "    </tr>\n",
       "  </thead>\n",
       "  <tbody>\n",
       "    <tr>\n",
       "      <th>0</th>\n",
       "      <td>7.850000</td>\n",
       "      <td>17.208333</td>\n",
       "      <td>104.200455</td>\n",
       "      <td>235.000000</td>\n",
       "      <td>1.516376</td>\n",
       "      <td>1</td>\n",
       "      <td>0</td>\n",
       "      <td>0</td>\n",
       "      <td>0</td>\n",
       "      <td>0</td>\n",
       "    </tr>\n",
       "    <tr>\n",
       "      <th>1</th>\n",
       "      <td>6.925000</td>\n",
       "      <td>16.608333</td>\n",
       "      <td>104.200455</td>\n",
       "      <td>300.000000</td>\n",
       "      <td>1.366667</td>\n",
       "      <td>1</td>\n",
       "      <td>0</td>\n",
       "      <td>0</td>\n",
       "      <td>0</td>\n",
       "      <td>0</td>\n",
       "    </tr>\n",
       "    <tr>\n",
       "      <th>2</th>\n",
       "      <td>10.175000</td>\n",
       "      <td>32.300000</td>\n",
       "      <td>104.200455</td>\n",
       "      <td>335.750000</td>\n",
       "      <td>1.611910</td>\n",
       "      <td>1</td>\n",
       "      <td>0</td>\n",
       "      <td>0</td>\n",
       "      <td>0</td>\n",
       "      <td>0</td>\n",
       "    </tr>\n",
       "    <tr>\n",
       "      <th>3</th>\n",
       "      <td>13.466667</td>\n",
       "      <td>33.408333</td>\n",
       "      <td>104.200455</td>\n",
       "      <td>261.750000</td>\n",
       "      <td>1.277778</td>\n",
       "      <td>1</td>\n",
       "      <td>0</td>\n",
       "      <td>0</td>\n",
       "      <td>0</td>\n",
       "      <td>0</td>\n",
       "    </tr>\n",
       "    <tr>\n",
       "      <th>4</th>\n",
       "      <td>16.187982</td>\n",
       "      <td>28.496361</td>\n",
       "      <td>104.200455</td>\n",
       "      <td>233.611749</td>\n",
       "      <td>1.350943</td>\n",
       "      <td>1</td>\n",
       "      <td>0</td>\n",
       "      <td>0</td>\n",
       "      <td>0</td>\n",
       "      <td>0</td>\n",
       "    </tr>\n",
       "  </tbody>\n",
       "</table>\n",
       "</div>"
      ],
      "text/plain": [
       "         so2        no2        rspm         spm  wheat_yield  \\\n",
       "0   7.850000  17.208333  104.200455  235.000000     1.516376   \n",
       "1   6.925000  16.608333  104.200455  300.000000     1.366667   \n",
       "2  10.175000  32.300000  104.200455  335.750000     1.611910   \n",
       "3  13.466667  33.408333  104.200455  261.750000     1.277778   \n",
       "4  16.187982  28.496361  104.200455  233.611749     1.350943   \n",
       "\n",
       "   district_AHMEDABAD  district_DELHI  district_FARIDABAD  district_KANPUR  \\\n",
       "0                   1               0                   0                0   \n",
       "1                   1               0                   0                0   \n",
       "2                   1               0                   0                0   \n",
       "3                   1               0                   0                0   \n",
       "4                   1               0                   0                0   \n",
       "\n",
       "   district_LUCKNOW  \n",
       "0                 0  \n",
       "1                 0  \n",
       "2                 0  \n",
       "3                 0  \n",
       "4                 0  "
      ]
     },
     "execution_count": 88,
     "metadata": {},
     "output_type": "execute_result"
    }
   ],
   "source": [
    "xgboostWheatYieldsDF.head()"
   ]
  },
  {
   "cell_type": "code",
   "execution_count": 89,
   "metadata": {},
   "outputs": [
    {
     "name": "stdout",
     "output_type": "stream",
     "text": [
      "Total: 59 - Train: 47 - Test: 12\n"
     ]
    }
   ],
   "source": [
    "np.random.seed(1598743463)\n",
    "X = xgboostRiceYieldsDF.loc[:, xgboostRiceYieldsDF.columns != 'rice_yield']\n",
    "y = xgboostRiceYieldsDF['rice_yield']\n",
    "X_train, X_test, y_train, y_test = train_test_split(X, y, test_size=0.2, random_state=101)\n",
    "print('Total: {0} - Train: {1} - Test: {2}'.format(len(X),len(X_train), len(X_test)))"
   ]
  },
  {
   "cell_type": "code",
   "execution_count": 90,
   "metadata": {},
   "outputs": [],
   "source": [
    "xgbr = XGBRegressor()\n",
    "xgbParms = { \n",
    "             'nthread':[10],\n",
    "             'objective':['reg:squarederror'],\n",
    "             'learning_rate': [0.001,0.01,0.03],\n",
    "             'max_depth': [10],\n",
    "             'min_child_weight': [4],\n",
    "             'silent': [1],\n",
    "             'subsample': [0.7],\n",
    "             'colsample_bytree': [1.0],\n",
    "             'n_estimators': [100, 300, 500]\n",
    "            }\n",
    "xgbrGridSearch = GridSearchCV(xgbr, xgbParms, cv = 10, scoring = 'neg_mean_squared_error', refit=True, n_jobs = 5, verbose=True)"
   ]
  },
  {
   "cell_type": "code",
   "execution_count": 91,
   "metadata": {
    "scrolled": true
   },
   "outputs": [
    {
     "name": "stdout",
     "output_type": "stream",
     "text": [
      "Fitting 10 folds for each of 9 candidates, totalling 90 fits\n"
     ]
    },
    {
     "name": "stderr",
     "output_type": "stream",
     "text": [
      "[Parallel(n_jobs=5)]: Using backend LokyBackend with 5 concurrent workers.\n",
      "[Parallel(n_jobs=5)]: Done  40 tasks      | elapsed:   18.1s\n",
      "[Parallel(n_jobs=5)]: Done  90 out of  90 | elapsed:   24.4s finished\n"
     ]
    },
    {
     "name": "stdout",
     "output_type": "stream",
     "text": [
      "[23:29:45] WARNING: C:/Users/Administrator/workspace/xgboost-win64_release_1.4.0/src/learner.cc:573: \n",
      "Parameters: { \"silent\" } might not be used.\n",
      "\n",
      "  This may not be accurate due to some parameters are only used in language bindings but\n",
      "  passed down to XGBoost core.  Or some parameters are not used but slip through this\n",
      "  verification. Please open an issue if you find above cases.\n",
      "\n",
      "\n"
     ]
    },
    {
     "data": {
      "text/plain": [
       "GridSearchCV(cv=10,\n",
       "             estimator=XGBRegressor(base_score=None, booster=None,\n",
       "                                    colsample_bylevel=None,\n",
       "                                    colsample_bynode=None,\n",
       "                                    colsample_bytree=None, gamma=None,\n",
       "                                    gpu_id=None, importance_type='gain',\n",
       "                                    interaction_constraints=None,\n",
       "                                    learning_rate=None, max_delta_step=None,\n",
       "                                    max_depth=None, min_child_weight=None,\n",
       "                                    missing=nan, monotone_constraints=None,\n",
       "                                    n_estimators=100, n_jobs...\n",
       "                                    scale_pos_weight=None, subsample=None,\n",
       "                                    tree_method=None, validate_parameters=None,\n",
       "                                    verbosity=None),\n",
       "             n_jobs=5,\n",
       "             param_grid={'colsample_bytree': [1.0],\n",
       "                         'learning_rate': [0.001, 0.01, 0.03],\n",
       "                         'max_depth': [10], 'min_child_weight': [4],\n",
       "                         'n_estimators': [100, 300, 500], 'nthread': [10],\n",
       "                         'objective': ['reg:squarederror'], 'silent': [1],\n",
       "                         'subsample': [0.7]},\n",
       "             scoring='neg_mean_squared_error', verbose=True)"
      ]
     },
     "execution_count": 91,
     "metadata": {},
     "output_type": "execute_result"
    }
   ],
   "source": [
    "xgbrGridSearch.fit(X_train,y_train)"
   ]
  },
  {
   "cell_type": "code",
   "execution_count": 92,
   "metadata": {
    "scrolled": true
   },
   "outputs": [
    {
     "name": "stdout",
     "output_type": "stream",
     "text": [
      "Best Score: -0.1737807318623962\n",
      "Best Estimator: XGBRegressor(base_score=0.5, booster='gbtree', colsample_bylevel=1,\n",
      "             colsample_bynode=1, colsample_bytree=1.0, gamma=0, gpu_id=-1,\n",
      "             importance_type='gain', interaction_constraints='',\n",
      "             learning_rate=0.01, max_delta_step=0, max_depth=10,\n",
      "             min_child_weight=4, missing=nan, monotone_constraints='()',\n",
      "             n_estimators=500, n_jobs=10, nthread=10, num_parallel_tree=1,\n",
      "             random_state=0, reg_alpha=0, reg_lambda=1, scale_pos_weight=1,\n",
      "             silent=1, subsample=0.7, tree_method='exact',\n",
      "             validate_parameters=1, verbosity=None)\n"
     ]
    }
   ],
   "source": [
    "print('Best Score: {0}\\nBest Estimator: {1}'.format(xgbrGridSearch.best_score_,xgbrGridSearch.best_estimator_))"
   ]
  },
  {
   "cell_type": "code",
   "execution_count": 93,
   "metadata": {},
   "outputs": [
    {
     "data": {
      "image/png": "[encoded data removed]",
      "text/plain": [
       "<Figure size 1152x720 with 1 Axes>"
      ]
     },
     "metadata": {
      "needs_background": "light"
     },
     "output_type": "display_data"
    }
   ],
   "source": [
    "learning_rate = xgbParms['learning_rate']\n",
    "n_estimators = xgbParms['n_estimators']\n",
    "means = xgbrGridSearch.cv_results_['mean_test_score']\n",
    "stds = xgbrGridSearch.cv_results_['std_test_score']\n",
    "params = xgbrGridSearch.cv_results_['params']\n",
    "scores = np.array(means).reshape(len(learning_rate), len(n_estimators))\n",
    "plt.figure(figsize=(16,10))\n",
    "for i, value in enumerate(learning_rate):\n",
    "    plt.plot(n_estimators, scores[i], label='learning_rate: ' + str(value))\n",
    "plt.legend()\n",
    "plt.xlabel('n_estimators')\n",
    "plt.ylabel('Log Loss')\n",
    "plt.show()"
   ]
  },
  {
   "cell_type": "markdown",
   "metadata": {},
   "source": [
    "Above is a plot of each learning rate as a series showing log loss performance for varying range of trees.  In our case, 100,300 & 500.  - We can see that the expected general trend holds, where the performance (inverted log loss) improves as the number of trees is increased. \n",
    "- Performance is generally poor for the smaller learning rates, suggesting that a much larger number of trees may be required. \n",
    "- More the number of trees (n_estimators) and learning rates, the algorithm is computationally expensive. "
   ]
  },
  {
   "cell_type": "markdown",
   "metadata": {},
   "source": [
    "### Predict Rice Yield"
   ]
  },
  {
   "cell_type": "code",
   "execution_count": 94,
   "metadata": {},
   "outputs": [
    {
     "name": "stdout",
     "output_type": "stream",
     "text": [
      "Mean Squared using XGBoost model = 0.12295882467623581\n",
      "R2 Score_XGBoost Regression = 0.4349956081841089\n",
      "Model Accuracy = 43.5%\n"
     ]
    }
   ],
   "source": [
    "XGB_best = xgbrGridSearch.best_estimator_\n",
    "y_pred = XGB_best.predict(X_test)\n",
    "explained_variance_score(y_test,y_pred)\n",
    "mean_absolute_error(y_test,y_pred)\n",
    "print('Mean Squared using XGBoost model = {0}'.format(mean_squared_error(y_test,y_pred,squared=True)))\n",
    "print('R2 Score_XGBoost Regression = {0}'.format(metrics.r2_score(y_test,y_pred)))\n",
    "print('Model Accuracy = {0}%'.format(round(metrics.r2_score(y_test,y_pred)*100,2)))"
   ]
  },
  {
   "cell_type": "markdown",
   "metadata": {},
   "source": [
    "#### Feature Importance\n",
    "\n",
    "A benefit of using gradient boosting is that after the boosted trees are constructed, it is relatively straightforward to retrieve importance scores for each attribute.\n",
    "\n",
    "Generally, importance provides a score that indicates how useful or valuable each feature was in the construction of the boosted decision trees within the model. The more an attribute is used to make key decisions with decision trees, the higher its relative importance.\n",
    "\n",
    "This importance is calculated explicitly for each attribute in the dataset, allowing attributes to be ranked and compared to each other.\n",
    "\n",
    "Importance is calculated for a single decision tree by the amount that each attribute split point improves the performance measure, weighted by the number of observations the node is responsible for. The performance measure may be the purity (Gini index) used to select the split points or another more specific error function.\n",
    "\n",
    "The feature importances are then averaged across all of the the decision trees within the model."
   ]
  },
  {
   "cell_type": "code",
   "execution_count": 95,
   "metadata": {},
   "outputs": [
    {
     "data": {
      "image/png": "[encoded data removed]",
      "text/plain": [
       "<Figure size 1152x720 with 1 Axes>"
      ]
     },
     "metadata": {
      "needs_background": "light"
     },
     "output_type": "display_data"
    }
   ],
   "source": [
    "plt.rcParams[\"figure.figsize\"] = (16,10)\n",
    "plot_importance(booster=XGB_best, color=\"DimGray\")\n",
    "plt.grid(None)\n",
    "plt.show()"
   ]
  },
  {
   "cell_type": "markdown",
   "metadata": {},
   "source": [
    "For the `crop` prediction problem, using all variables as a base model and then brute forcing the difference between the base model and the base model + \\<one_interaction_term\\> for all possible interaction terms, i.e. $2^n-1$ models, the best accuracy we could get was 86%. *(For runtime purposes this analysis was done external to this Colab.)*\n",
    "\n",
    "Using XGBoost along with Grid-Search-Tuned hyperparameters, we were able to get the highest level of accuracy of all candidate models at 97%, which is notably higher than our strongest efforts using Linear Regression and kNN Regression.\n",
    "\n",
    "This level of accuracy might raise some concerns regarding overfitting. While this is normally warranted, the XGBoost algorithm uses regularization (L1 & L2) to avoid overfitting. Also, by restraining the learning rate we prevent the model from overly adapting to the training data as well.\n",
    "\n",
    "As the XGBoost hyperparameters play a non-trivial role in speed, accuracy & overfitting, it is best to train the model using grid-search to narrow down to the optimal hyperparameters.  In particular, special attention must be paid to the following:\n",
    "\n",
    "> - n-estimators - Number of Trees\n",
    "> - learning_rate - Makes the model more robust by shrinking the weights on each step\n",
    "> - max_depth - For Tree Pruning.  The maximum depth of a tree.\n",
    "> - nthread - For Parallel Processing\n",
    "> - subsample - Denotes the fraction of observations to be random samples for each tree.\n",
    "> - eval_metric - The default values are rmse for regression and error for classification\n",
    "\n",
    "For our case, the optimal values for each of the above hyperparameters were found to be the following:\n",
    "\n",
    "* n-estimators: 500\n",
    "* learning_rate: 0.03\n",
    "* max_depth: 10\n",
    "* nthread: 10\n",
    "* subsample: 0.7\n",
    "* eval_metric: \"rmse\"\n",
    "\n",
    "In terms of the model itself, the importance of each variable tended to vary until the random seed was set, with the noted exception of `spm`, which has consistently been the most important predictor of all of the optimal XGBoost models that were searched out.\n",
    "\n",
    "Lastly, XGBoost is a near-perfect *regularized boosting* algorithm with a combination of software, hardware & algorithmic optimization to yield superior results using fewer computing resources with minimal latency. "
   ]
  },
  {
   "cell_type": "code",
   "execution_count": 96,
   "metadata": {},
   "outputs": [
    {
     "name": "stdout",
     "output_type": "stream",
     "text": [
      "Total: 59 - Train: 47 - Test: 12\n"
     ]
    }
   ],
   "source": [
    "np.random.seed(1598743463)\n",
    "X = xgboostWheatYieldsDF.loc[:, xgboostWheatYieldsDF.columns != 'wheat_yield']\n",
    "y = xgboostWheatYieldsDF['wheat_yield']\n",
    "X_train, X_test, y_train, y_test = train_test_split(X, y, test_size=0.2, random_state=101)\n",
    "print('Total: {0} - Train: {1} - Test: {2}'.format(len(X),len(X_train), len(X_test)))"
   ]
  },
  {
   "cell_type": "code",
   "execution_count": 97,
   "metadata": {},
   "outputs": [],
   "source": [
    "xgbr = XGBRegressor()\n",
    "xgbParms = { \n",
    "             'nthread':[10],\n",
    "             'objective':['reg:squarederror'],\n",
    "             'learning_rate': [0.001,0.01,0.03],\n",
    "             'max_depth': [10],\n",
    "             'min_child_weight': [4],\n",
    "             'silent': [1],\n",
    "             'subsample': [0.7],\n",
    "             'colsample_bytree': [1.0],\n",
    "             'n_estimators': [100, 300, 500]\n",
    "            }\n",
    "xgbrGridSearch = GridSearchCV(xgbr, xgbParms, cv = 10, scoring = 'neg_mean_squared_error', refit=True, n_jobs = 5, verbose=True)"
   ]
  },
  {
   "cell_type": "code",
   "execution_count": 98,
   "metadata": {
    "scrolled": true
   },
   "outputs": [
    {
     "name": "stdout",
     "output_type": "stream",
     "text": [
      "Fitting 10 folds for each of 9 candidates, totalling 90 fits\n"
     ]
    },
    {
     "name": "stderr",
     "output_type": "stream",
     "text": [
      "[Parallel(n_jobs=5)]: Using backend LokyBackend with 5 concurrent workers.\n",
      "[Parallel(n_jobs=5)]: Done  40 tasks      | elapsed:   18.3s\n",
      "[Parallel(n_jobs=5)]: Done  90 out of  90 | elapsed:   25.1s finished\n"
     ]
    },
    {
     "name": "stdout",
     "output_type": "stream",
     "text": [
      "[23:38:04] WARNING: C:/Users/Administrator/workspace/xgboost-win64_release_1.4.0/src/learner.cc:573: \n",
      "Parameters: { \"silent\" } might not be used.\n",
      "\n",
      "  This may not be accurate due to some parameters are only used in language bindings but\n",
      "  passed down to XGBoost core.  Or some parameters are not used but slip through this\n",
      "  verification. Please open an issue if you find above cases.\n",
      "\n",
      "\n"
     ]
    },
    {
     "data": {
      "text/plain": [
       "GridSearchCV(cv=10,\n",
       "             estimator=XGBRegressor(base_score=None, booster=None,\n",
       "                                    colsample_bylevel=None,\n",
       "                                    colsample_bynode=None,\n",
       "                                    colsample_bytree=None, gamma=None,\n",
       "                                    gpu_id=None, importance_type='gain',\n",
       "                                    interaction_constraints=None,\n",
       "                                    learning_rate=None, max_delta_step=None,\n",
       "                                    max_depth=None, min_child_weight=None,\n",
       "                                    missing=nan, monotone_constraints=None,\n",
       "                                    n_estimators=100, n_jobs...\n",
       "                                    scale_pos_weight=None, subsample=None,\n",
       "                                    tree_method=None, validate_parameters=None,\n",
       "                                    verbosity=None),\n",
       "             n_jobs=5,\n",
       "             param_grid={'colsample_bytree': [1.0],\n",
       "                         'learning_rate': [0.001, 0.01, 0.03],\n",
       "                         'max_depth': [10], 'min_child_weight': [4],\n",
       "                         'n_estimators': [100, 300, 500], 'nthread': [10],\n",
       "                         'objective': ['reg:squarederror'], 'silent': [1],\n",
       "                         'subsample': [0.7]},\n",
       "             scoring='neg_mean_squared_error', verbose=True)"
      ]
     },
     "execution_count": 98,
     "metadata": {},
     "output_type": "execute_result"
    }
   ],
   "source": [
    "xgbrGridSearch.fit(X_train,y_train)"
   ]
  },
  {
   "cell_type": "code",
   "execution_count": 99,
   "metadata": {
    "scrolled": true
   },
   "outputs": [
    {
     "name": "stdout",
     "output_type": "stream",
     "text": [
      "Best Score: -0.2567507895768637\n",
      "Best Estimator: XGBRegressor(base_score=0.5, booster='gbtree', colsample_bylevel=1,\n",
      "             colsample_bynode=1, colsample_bytree=1.0, gamma=0, gpu_id=-1,\n",
      "             importance_type='gain', interaction_constraints='',\n",
      "             learning_rate=0.01, max_delta_step=0, max_depth=10,\n",
      "             min_child_weight=4, missing=nan, monotone_constraints='()',\n",
      "             n_estimators=500, n_jobs=10, nthread=10, num_parallel_tree=1,\n",
      "             random_state=0, reg_alpha=0, reg_lambda=1, scale_pos_weight=1,\n",
      "             silent=1, subsample=0.7, tree_method='exact',\n",
      "             validate_parameters=1, verbosity=None)\n"
     ]
    }
   ],
   "source": [
    "print('Best Score: {0}\\nBest Estimator: {1}'.format(xgbrGridSearch.best_score_,xgbrGridSearch.best_estimator_))"
   ]
  },
  {
   "cell_type": "code",
   "execution_count": 100,
   "metadata": {},
   "outputs": [
    {
     "data": {
      "image/png": "[encoded data removed]",
      "text/plain": [
       "<Figure size 1152x720 with 1 Axes>"
      ]
     },
     "metadata": {
      "needs_background": "light"
     },
     "output_type": "display_data"
    }
   ],
   "source": [
    "learning_rate = xgbParms['learning_rate']\n",
    "n_estimators = xgbParms['n_estimators']\n",
    "means = xgbrGridSearch.cv_results_['mean_test_score']\n",
    "stds = xgbrGridSearch.cv_results_['std_test_score']\n",
    "params = xgbrGridSearch.cv_results_['params']\n",
    "scores = np.array(means).reshape(len(learning_rate), len(n_estimators))\n",
    "plt.figure(figsize=(16,10))\n",
    "for i, value in enumerate(learning_rate):\n",
    "    plt.plot(n_estimators, scores[i], label='learning_rate: ' + str(value))\n",
    "plt.legend()\n",
    "plt.xlabel('n_estimators')\n",
    "plt.ylabel('Log Loss')\n",
    "plt.show()"
   ]
  },
  {
   "cell_type": "markdown",
   "metadata": {},
   "source": [
    "Above is a plot of each learning rate as a series showing log loss performance for varying range of trees.  In our case, 100,300 & 500.  - We can see that the expected general trend holds, where the performance (inverted log loss) improves as the number of trees is increased. \n",
    "- Performance is generally poor for the smaller learning rates, suggesting that a much larger number of trees may be required. \n",
    "- More the number of trees (n_estimators) and learning rates, the algorithm is computationally expensive. "
   ]
  },
  {
   "cell_type": "markdown",
   "metadata": {},
   "source": [
    "### Predict Wheat Yield"
   ]
  },
  {
   "cell_type": "code",
   "execution_count": 101,
   "metadata": {},
   "outputs": [
    {
     "name": "stdout",
     "output_type": "stream",
     "text": [
      "Mean Squared using XGBoost model = 0.07833754153871364\n",
      "R2 Score_XGBoost Regression = 0.903627216744935\n",
      "Model Accuracy = 90.36%\n"
     ]
    }
   ],
   "source": [
    "XGB_best = xgbrGridSearch.best_estimator_\n",
    "y_pred = XGB_best.predict(X_test)\n",
    "explained_variance_score(y_test,y_pred)\n",
    "mean_absolute_error(y_test,y_pred)\n",
    "print('Mean Squared using XGBoost model = {0}'.format(mean_squared_error(y_test,y_pred,squared=True)))\n",
    "print('R2 Score_XGBoost Regression = {0}'.format(metrics.r2_score(y_test,y_pred)))\n",
    "print('Model Accuracy = {0}%'.format(round(metrics.r2_score(y_test,y_pred)*100,2)))"
   ]
  },
  {
   "cell_type": "markdown",
   "metadata": {},
   "source": [
    "#### Feature Importance\n",
    "\n",
    "A benefit of using gradient boosting is that after the boosted trees are constructed, it is relatively straightforward to retrieve importance scores for each attribute.\n",
    "\n",
    "Generally, importance provides a score that indicates how useful or valuable each feature was in the construction of the boosted decision trees within the model. The more an attribute is used to make key decisions with decision trees, the higher its relative importance.\n",
    "\n",
    "This importance is calculated explicitly for each attribute in the dataset, allowing attributes to be ranked and compared to each other.\n",
    "\n",
    "Importance is calculated for a single decision tree by the amount that each attribute split point improves the performance measure, weighted by the number of observations the node is responsible for. The performance measure may be the purity (Gini index) used to select the split points or another more specific error function.\n",
    "\n",
    "The feature importances are then averaged across all of the the decision trees within the model."
   ]
  },
  {
   "cell_type": "code",
   "execution_count": 102,
   "metadata": {},
   "outputs": [
    {
     "data": {
      "image/png": "[encoded data removed]",
      "text/plain": [
       "<Figure size 1152x720 with 1 Axes>"
      ]
     },
     "metadata": {
      "needs_background": "light"
     },
     "output_type": "display_data"
    }
   ],
   "source": [
    "plt.rcParams[\"figure.figsize\"] = (16,10)\n",
    "plot_importance(booster=XGB_best, color=\"DimGray\")\n",
    "plt.grid(None)\n",
    "plt.show()"
   ]
  },
  {
   "cell_type": "code",
   "execution_count": null,
   "metadata": {},
   "outputs": [],
   "source": []
  },
  {
   "cell_type": "markdown",
   "metadata": {},
   "source": [
    "For the `crop` prediction problem, using all variables as a base model and then brute forcing the difference between the base model and the base model + \\<one_interaction_term\\> for all possible interaction terms, i.e. $2^n-1$ models, the best accuracy we could get was 86%. *(For runtime purposes this analysis was done external to this Colab.)*\n",
    "\n",
    "Using XGBoost along with Grid-Search-Tuned hyperparameters, we were able to get the highest level of accuracy of all candidate models at 97%, which is notably higher than our strongest efforts using Linear Regression and kNN Regression.\n",
    "\n",
    "This level of accuracy might raise some concerns regarding overfitting. While this is normally warranted, the XGBoost algorithm uses regularization (L1 & L2) to avoid overfitting. Also, by restraining the learning rate we prevent the model from overly adapting to the training data as well.\n",
    "\n",
    "As the XGBoost hyperparameters play a non-trivial role in speed, accuracy & overfitting, it is best to train the model using grid-search to narrow down to the optimal hyperparameters.  In particular, special attention must be paid to the following:\n",
    "\n",
    "> - n-estimators - Number of Trees\n",
    "> - learning_rate - Makes the model more robust by shrinking the weights on each step\n",
    "> - max_depth - For Tree Pruning.  The maximum depth of a tree.\n",
    "> - nthread - For Parallel Processing\n",
    "> - subsample - Denotes the fraction of observations to be random samples for each tree.\n",
    "> - eval_metric - The default values are rmse for regression and error for classification\n",
    "\n",
    "For our case, the optimal values for each of the above hyperparameters were found to be the following:\n",
    "\n",
    "* n-estimators: 500\n",
    "* learning_rate: 0.03\n",
    "* max_depth: 10\n",
    "* nthread: 10\n",
    "* subsample: 0.7\n",
    "* eval_metric: \"rmse\"\n",
    "\n",
    "In terms of the model itself, the importance of each variable tended to vary until the random seed was set, with the noted exception of `no2`, which has consistently been the most important predictor of all of the optimal XGBoost models that were searched out.\n",
    "\n",
    "Lastly, XGBoost is a near-perfect *regularized boosting* algorithm with a combination of software, hardware & algorithmic optimization to yield superior results using fewer computing resources with minimal latency. "
   ]
  },
  {
   "cell_type": "code",
   "execution_count": null,
   "metadata": {},
   "outputs": [],
   "source": []
  }
 ],
 "metadata": {
  "kernelspec": {
   "display_name": "Python 3",
   "language": "python",
   "name": "python3"
  },
  "language_info": {
   "codemirror_mode": {
    "name": "ipython",
    "version": 3
   },
   "file_extension": ".py",
   "mimetype": "text/x-python",
   "name": "python",
   "nbconvert_exporter": "python",
   "pygments_lexer": "ipython3",
   "version": "3.7.6"
  }
 },
 "nbformat": 4,
 "nbformat_minor": 4
}
